{
 "cells": [
  {
   "cell_type": "markdown",
   "metadata": {},
   "source": [
    "# Analisis exploratorio de datos: Encuesta Nacional de Inclusion Financiera (ENIF)\n",
    "\n",
    "## Presenta: Luis Carlos Rodriguez Pacheco\n",
    "\n",
    "## luis.pacheco@train.ia.center\n",
    "\n",
    "## Ciencia de datos Bosch modulo 1: Centro de Inteligencia Artificial (IA-CENTER)\n",
    "\n",
    "\n",
    "\n"
   ]
  },
  {
   "cell_type": "markdown",
   "metadata": {
    "tags": []
   },
   "source": [
    "## Indice de Contenido:\n",
    "\n",
    "### 1. Introducción\n",
    "\n",
    "### 2. Metodología\n",
    "    2.1. Importación de datos\n",
    "    2.2. Análisis exploratorio\n",
    "    2.3. Limpieza de datos\n",
    "    2.4. Preparación de datos\n",
    "    2.5. Visualización de datos (parte teórica)\n",
    "\n",
    "### 3. Resultados y discusiones\n",
    "\n",
    "### 4. Dashboard y conclusiones finales\n",
    "\n",
    "### 5. Bibliografía consultada\n",
    "\n",
    "\n",
    "\n"
   ]
  },
  {
   "cell_type": "markdown",
   "metadata": {},
   "source": [
    "## 1. Introducción \n",
    "\n",
    "La inclusión financiera es un concepto multifactorial, que se define como el acceso y uso\n",
    "de servicios financieros formales bajo una regulación apropiada que garantice esquemas\n",
    "de protección al consumidor y promueva la educación financiera para mejorar la\n",
    "capacidad financiera de todos los segmentos de la población (CNBV, 2020). De esta\n",
    "forma, la inclusión financiera va más allá de la penetración del crédito o el ahorro: implica\n",
    "democratizar el acceso a servicios financieros de calidad y en las condiciones adecuadas\n",
    "para que la población pueda beneficiarse de participar en el sistema financiero.\n",
    "\n",
    "Los beneficios que la inclusión financiera puede tener en una sociedad es un tema que\n",
    "ha generado interés en la literatura, la cual ha documentado efectos tanto a nivel de\n",
    "hogares y empresas como a nivel macroeconómico. Diversos estudios a nivel agregado\n",
    "han encontrado una relación positiva entre una mayor inclusión financiera y el\n",
    "crecimiento y desarrollo económicos (Barajas, et al., 2020; Demirguc-Kunt, et al., 2017; Cull\n",
    "et al., 2014; Beck et al., 2009). Además, investigaciones recientes muestran que el impacto\n",
    "positivo de un sistema financiero de mayor tamaño se incrementa en aquellos países con\n",
    "mayores niveles de inclusión financiera (Svirydzenka, 2016). De forma análoga, la inclusión\n",
    "financiera ha probado ser una herramienta esencial para combatir la desigualdad y la\n",
    "pobreza (Cihak & Sahay, 2020; Loukaianova & Yang, 2018). Además, sus beneficios no se\n",
    "limitan únicamente a la población usuaria, ya que también contribuye a conformar un\n",
    "sistema financiero más estable (Nguyen & Du, 2022; Banna & Alam, 2021; Ahamed &\n",
    "Mallick, 2019), al ofrecer a las instituciones financieras una fuente de fondeo estable a\n",
    "través de la captación, y reducir la toma de riesgos de las instituciones. \n",
    "\n",
    "La importancia de promover la educación financiera entre la población radica en que\n",
    "la evidencia académica ha mostrado que bajos niveles de educación financiera podrían\n",
    "detener el crecimiento de la inclusión financiera (Atkinson & Messy, 2013b). Otras\n",
    "investigaciones han mostrado consistentemente que obtener estas capacidades\n",
    "económico-financieras es esencial para evitar cometer errores financieros, como pueden\n",
    "ser ahorrar en instrumentos no adecuados, no contar con un plan de retiro, tomar riesgos\n",
    "excesivos al invertir, recurrir a fuentes de financiamiento costosas, realizar un manejo\n",
    "inadecuado de sus deudas o ser víctima de fraudes o estafas (Lusardi & Mitchell, 2014).\n",
    "Además, la educación financiera tiene un impacto significativo en el desarrollo\n",
    "económico, ya que, se ha encontrado que mejoras en las competencias económicofinancieras contribuyen a una menor desigualdad de los ingresos (Oliver-Márquez, et al\n",
    "2021, Lusardi, et al.; 2017, Lo Prete, 2013) y reduce los niveles de pobreza (Askar, et al., 2020). \n",
    "\n",
    "Considerando la importancia que tienen la inclusión y la educación financiera como\n",
    "medios complementarios no solo para fomentar un mayor crecimiento económico sino\n",
    "también para mejorar la calidad de vida de la población mexicana, el Gobierno de México ha establecido la Política Nacional de Inclusión Financiera (PNIF), cuyo objetivo\n",
    "primordial es impulsar la inclusión y las competencias económico-financieras, así como\n",
    "la protección a la población usuaria de productos financieros en México. Asimismo, la\n",
    "PNIF Incluye la Estrategia Nacional del Educación Financiera (ENEF), cuyo objetivo es\n",
    "guiar los esfuerzos del país para fomentar el bienestar financiero de la población.\n",
    "Evaluar y dar seguimiento a los avances de esta política sería imposible sin fuentes de\n",
    "datos adecuadas y robustas. Con este fin, la Comisión Nacional Bancaria y de Valores\n",
    "(CNBV), en colaboración con el Instituto Nacional de Estadística y Geografía (INEGI),\n",
    "realizan la Encuesta Nacional de Inclusión Financiera (ENIF). Esta encuesta tiene como\n",
    "objetivo generar información estadística e indicadores oficiales a nivel nacional y regional\n",
    "que permitan a las autoridades financieras hacer diagnósticos, diseñar políticas públicas\n",
    "y establecer metas en materia de inclusión y educación financieras; asimismo, incorporar\n",
    "cambios y actualizaciones requeridas para dar atención a nuevos requerimientos de\n",
    "información y consideraciones en la PNIF.\n",
    "\n",
    "\n",
    "\n"
   ]
  },
  {
   "cell_type": "markdown",
   "metadata": {},
   "source": [
    "## 2. Metodología\n",
    "\n",
    "### 2.1 Importación de datos\n",
    "\n",
    "Del sitio: https://www.inegi.org.mx/programas/enif/2021/#datos_abiertos se hizo la descarga del conjunto de datos comprimidos. Despues de un proceso de descompresión se obtuvieron los conjuntos de datos: tmodulo y tsdem. Ambos se almacenaron en sus correspondientes carpetas.\n",
    "\n",
    "Importante:\n",
    "\n",
    "El presente estudio se baso en dos conjuntos de datos: tsdem y tmodulo. \n",
    "\n",
    "tmodulo: Información de las secciones del módulo. Informacion del hogar en si\n",
    "\n",
    "tsdem: Información de residentes del hogar. Información propia de las personas dentro del hogar.\n",
    "\n",
    "La forma en que los datos se organizan es:\n",
    "\n",
    "Hay un conjunto de datos principal (tmodulo, tsdem), cada feature esta asociada con una clave y un valor, la información de los valores se encuentra en \"catalogos\" alojados dentro del mismo directorio. El significado de cada pregunta se encuentra dentro de diccionario de datos. \n"
   ]
  },
  {
   "cell_type": "code",
   "execution_count": 1,
   "metadata": {},
   "outputs": [],
   "source": [
    "import pandas as pd\n",
    "import matplotlib.pyplot as plt\n",
    "import numpy as np\n",
    "import os"
   ]
  },
  {
   "cell_type": "markdown",
   "metadata": {},
   "source": [
    "Creando una funcion la cual recibe si es tipo tmodulo o tsdem, además del año que se esta investigando. Despliega un diccionario con los datasets: principales, diccionarios y de catalogos (siendo este ultimo, otro diccionario). De tal modo que se importan todos los .csv relacionados en un solo diccionario."
   ]
  },
  {
   "cell_type": "code",
   "execution_count": 2,
   "metadata": {},
   "outputs": [],
   "source": [
    "# Importando conjuntos de datos principales:\n",
    "def leer_conjunto_principal(archivo,year):\n",
    "    mainpath = f\"conjunto_de_datos_{archivo}_enif_{year}\"\n",
    "    df1 = pd.read_csv(f\"{mainpath}/conjunto_de_datos/conjunto_de_datos_{archivo}_enif_{year}.csv\")\n",
    "    dfdict = pd.read_csv(f\"{mainpath}/diccionario_de_datos/diccionario_datos_{archivo}_enif_{year}.csv\")\n",
    "    catalogos = {}\n",
    "    contenidocatalogos = os.listdir(f\"conjunto_de_datos_{archivo}_enif_{year}/catalogos\")\n",
    "    \n",
    "    for catalogo in contenidocatalogos:\n",
    "        catalogos[catalogo.replace(\".csv\",\"\")] = pd.read_csv(f\"conjunto_de_datos_{archivo}_enif_{year}/catalogos/{catalogo}\",  encoding=\"ISO-8859-1\")\n",
    "\n",
    "    conjuntos = {\"df\":df1, \"diccionario\":dfdict, \"catalogos\":catalogos}\n",
    "\n",
    "    return conjuntos\n",
    "    "
   ]
  },
  {
   "cell_type": "markdown",
   "metadata": {},
   "source": [
    "importando datos de tsdem"
   ]
  },
  {
   "cell_type": "code",
   "execution_count": 3,
   "metadata": {},
   "outputs": [],
   "source": [
    "# tsdem\n",
    "tsdem = leer_conjunto_principal(\"tsdem\", 2021)"
   ]
  },
  {
   "cell_type": "markdown",
   "metadata": {},
   "source": [
    "importando datos de tmodulo"
   ]
  },
  {
   "cell_type": "code",
   "execution_count": 4,
   "metadata": {},
   "outputs": [],
   "source": [
    "tmodulo = leer_conjunto_principal(\"tmodulo\", 2021)"
   ]
  },
  {
   "cell_type": "markdown",
   "metadata": {},
   "source": [
    "### 2.2 Limpieza de datos"
   ]
  },
  {
   "cell_type": "markdown",
   "metadata": {},
   "source": [
    "En tsdem y tmodulo:\n",
    "Columna Edad en tmodulo y tsdem"
   ]
  },
  {
   "cell_type": "code",
   "execution_count": 5,
   "metadata": {},
   "outputs": [
    {
     "data": {
      "text/html": [
       "<div>\n",
       "<style scoped>\n",
       "    .dataframe tbody tr th:only-of-type {\n",
       "        vertical-align: middle;\n",
       "    }\n",
       "\n",
       "    .dataframe tbody tr th {\n",
       "        vertical-align: top;\n",
       "    }\n",
       "\n",
       "    .dataframe thead th {\n",
       "        text-align: right;\n",
       "    }\n",
       "</style>\n",
       "<table border=\"1\" class=\"dataframe\">\n",
       "  <thead>\n",
       "    <tr style=\"text-align: right;\">\n",
       "      <th></th>\n",
       "      <th>cve</th>\n",
       "      <th>descrip</th>\n",
       "    </tr>\n",
       "  </thead>\n",
       "  <tbody>\n",
       "    <tr>\n",
       "      <th>0</th>\n",
       "      <td>0</td>\n",
       "      <td>Menos de un año</td>\n",
       "    </tr>\n",
       "    <tr>\n",
       "      <th>1</th>\n",
       "      <td>0196</td>\n",
       "      <td>Años cumplidos</td>\n",
       "    </tr>\n",
       "    <tr>\n",
       "      <th>2</th>\n",
       "      <td>97</td>\n",
       "      <td>97 años y más</td>\n",
       "    </tr>\n",
       "    <tr>\n",
       "      <th>3</th>\n",
       "      <td>98</td>\n",
       "      <td>Edad no especificada en personas de 18 años y más</td>\n",
       "    </tr>\n",
       "    <tr>\n",
       "      <th>4</th>\n",
       "      <td>99</td>\n",
       "      <td>Otra edad no especificada</td>\n",
       "    </tr>\n",
       "  </tbody>\n",
       "</table>\n",
       "</div>"
      ],
      "text/plain": [
       "     cve                                            descrip\n",
       "0      0                                    Menos de un año\n",
       "1  01\n",
       "96                                     Años cumplidos\n",
       "2     97                                      97 años y más\n",
       "3     98  Edad no especificada en personas de 18 años y más\n",
       "4     99                          Otra edad no especificada"
      ]
     },
     "execution_count": 5,
     "metadata": {},
     "output_type": "execute_result"
    }
   ],
   "source": [
    "tsdem[\"catalogos\"][\"edad\"]"
   ]
  },
  {
   "cell_type": "code",
   "execution_count": 6,
   "metadata": {},
   "outputs": [
    {
     "data": {
      "text/html": [
       "<div>\n",
       "<style scoped>\n",
       "    .dataframe tbody tr th:only-of-type {\n",
       "        vertical-align: middle;\n",
       "    }\n",
       "\n",
       "    .dataframe tbody tr th {\n",
       "        vertical-align: top;\n",
       "    }\n",
       "\n",
       "    .dataframe thead th {\n",
       "        text-align: right;\n",
       "    }\n",
       "</style>\n",
       "<table border=\"1\" class=\"dataframe\">\n",
       "  <thead>\n",
       "    <tr style=\"text-align: right;\">\n",
       "      <th></th>\n",
       "      <th>cve</th>\n",
       "      <th>descrip</th>\n",
       "    </tr>\n",
       "  </thead>\n",
       "  <tbody>\n",
       "    <tr>\n",
       "      <th>0</th>\n",
       "      <td>0</td>\n",
       "      <td>Menos de un año</td>\n",
       "    </tr>\n",
       "    <tr>\n",
       "      <th>1</th>\n",
       "      <td>01...96</td>\n",
       "      <td>Años cumplidos</td>\n",
       "    </tr>\n",
       "    <tr>\n",
       "      <th>2</th>\n",
       "      <td>97</td>\n",
       "      <td>97 años y más</td>\n",
       "    </tr>\n",
       "    <tr>\n",
       "      <th>3</th>\n",
       "      <td>98</td>\n",
       "      <td>Edad no especificada en personas de 18 años y más</td>\n",
       "    </tr>\n",
       "    <tr>\n",
       "      <th>4</th>\n",
       "      <td>99</td>\n",
       "      <td>Otra edad no especificada</td>\n",
       "    </tr>\n",
       "  </tbody>\n",
       "</table>\n",
       "</div>"
      ],
      "text/plain": [
       "       cve                                            descrip\n",
       "0        0                                    Menos de un año\n",
       "1  01...96                                     Años cumplidos\n",
       "2       97                                      97 años y más\n",
       "3       98  Edad no especificada en personas de 18 años y más\n",
       "4       99                          Otra edad no especificada"
      ]
     },
     "execution_count": 6,
     "metadata": {},
     "output_type": "execute_result"
    }
   ],
   "source": [
    "tmodulo[\"catalogos\"][\"edad\"]"
   ]
  },
  {
   "cell_type": "markdown",
   "metadata": {},
   "source": [
    "En ambos, se observa que la columna años cumplidos es un rango, mismo que no tiene sentido, ya que esos años cumplidos corresponden justo al valor de la columna cve"
   ]
  },
  {
   "cell_type": "code",
   "execution_count": 7,
   "metadata": {},
   "outputs": [],
   "source": [
    "#Eliminando la fila 1 del dataset edad, del subdirectorio catalogos del directorio tsdem\n",
    "tsdem[\"catalogos\"][\"edad\"] = tsdem[\"catalogos\"][\"edad\"].drop(1, axis=0)\n"
   ]
  },
  {
   "cell_type": "code",
   "execution_count": 8,
   "metadata": {},
   "outputs": [],
   "source": [
    "#Eliminando la fila 1 del dataset edad, del subdirectorio catalogos del directorio tmodulo\n",
    "tmodulo[\"catalogos\"][\"edad\"] = tmodulo[\"catalogos\"][\"edad\"].drop(1, axis=0)"
   ]
  },
  {
   "cell_type": "markdown",
   "metadata": {},
   "source": [
    "En tmodulo ...."
   ]
  },
  {
   "cell_type": "markdown",
   "metadata": {},
   "source": [
    "Analizando el p12_4"
   ]
  },
  {
   "cell_type": "code",
   "execution_count": 9,
   "metadata": {},
   "outputs": [
    {
     "data": {
      "text/html": [
       "<div>\n",
       "<style scoped>\n",
       "    .dataframe tbody tr th:only-of-type {\n",
       "        vertical-align: middle;\n",
       "    }\n",
       "\n",
       "    .dataframe tbody tr th {\n",
       "        vertical-align: top;\n",
       "    }\n",
       "\n",
       "    .dataframe thead th {\n",
       "        text-align: right;\n",
       "    }\n",
       "</style>\n",
       "<table border=\"1\" class=\"dataframe\">\n",
       "  <thead>\n",
       "    <tr style=\"text-align: right;\">\n",
       "      <th></th>\n",
       "      <th>nombre_campo</th>\n",
       "      <th>longitud</th>\n",
       "      <th>tipo</th>\n",
       "      <th>nemónico</th>\n",
       "      <th>catálogo</th>\n",
       "      <th>rango_claves</th>\n",
       "      <th>Unnamed: 6</th>\n",
       "      <th>Unnamed: 7</th>\n",
       "      <th>Unnamed: 8</th>\n",
       "    </tr>\n",
       "  </thead>\n",
       "  <tbody>\n",
       "    <tr>\n",
       "      <th>359</th>\n",
       "      <td>Pregunta P12.4 ¿Cuántos meses le tomó reponers...</td>\n",
       "      <td>2</td>\n",
       "      <td>C</td>\n",
       "      <td>p12_4</td>\n",
       "      <td>p12_4</td>\n",
       "      <td>01...88</td>\n",
       "      <td>NaN</td>\n",
       "      <td>NaN</td>\n",
       "      <td>NaN</td>\n",
       "    </tr>\n",
       "  </tbody>\n",
       "</table>\n",
       "</div>"
      ],
      "text/plain": [
       "                                          nombre_campo  longitud tipo  \\\n",
       "359  Pregunta P12.4 ¿Cuántos meses le tomó reponers...         2    C   \n",
       "\n",
       "    nemónico catálogo rango_claves  Unnamed: 6  Unnamed: 7  Unnamed: 8  \n",
       "359    p12_4    p12_4      01...88         NaN         NaN         NaN  "
      ]
     },
     "execution_count": 9,
     "metadata": {},
     "output_type": "execute_result"
    }
   ],
   "source": [
    "tmodulo[\"diccionario\"][tmodulo[\"diccionario\"][\"nemónico\"] == \"p12_4\"]"
   ]
  },
  {
   "cell_type": "code",
   "execution_count": 10,
   "metadata": {},
   "outputs": [
    {
     "data": {
      "text/html": [
       "<div>\n",
       "<style scoped>\n",
       "    .dataframe tbody tr th:only-of-type {\n",
       "        vertical-align: middle;\n",
       "    }\n",
       "\n",
       "    .dataframe tbody tr th {\n",
       "        vertical-align: top;\n",
       "    }\n",
       "\n",
       "    .dataframe thead th {\n",
       "        text-align: right;\n",
       "    }\n",
       "</style>\n",
       "<table border=\"1\" class=\"dataframe\">\n",
       "  <thead>\n",
       "    <tr style=\"text-align: right;\">\n",
       "      <th></th>\n",
       "      <th>cve</th>\n",
       "      <th>descrip</th>\n",
       "    </tr>\n",
       "  </thead>\n",
       "  <tbody>\n",
       "    <tr>\n",
       "      <th>0</th>\n",
       "      <td>01...87</td>\n",
       "      <td>Meses</td>\n",
       "    </tr>\n",
       "    <tr>\n",
       "      <th>1</th>\n",
       "      <td>88</td>\n",
       "      <td>Todavía no se recupera o sigue endeudada(o)</td>\n",
       "    </tr>\n",
       "  </tbody>\n",
       "</table>\n",
       "</div>"
      ],
      "text/plain": [
       "       cve                                      descrip\n",
       "0  01...87                                        Meses\n",
       "1       88  Todavía no se recupera o sigue endeudada(o)"
      ]
     },
     "execution_count": 10,
     "metadata": {},
     "output_type": "execute_result"
    }
   ],
   "source": [
    "tmodulo[\"catalogos\"][\"p12_4\"]"
   ]
  },
  {
   "cell_type": "markdown",
   "metadata": {},
   "source": [
    "Se observa la misma situacion en el registro 0, hay un rango ilegible de meses, que ademas, el valor actual corresponde al mismo valor en meses, por lo que no es necesario indexarse. "
   ]
  },
  {
   "cell_type": "code",
   "execution_count": 11,
   "metadata": {},
   "outputs": [],
   "source": [
    "#eliminando el registro Meses\n",
    "tmodulo[\"catalogos\"][\"p12_4\"] = tmodulo[\"catalogos\"][\"p12_4\"].drop(0, axis=0)"
   ]
  },
  {
   "cell_type": "markdown",
   "metadata": {},
   "source": [
    "Analizando el p3_8a "
   ]
  },
  {
   "cell_type": "code",
   "execution_count": 12,
   "metadata": {},
   "outputs": [
    {
     "data": {
      "text/plain": [
       "12    Pregunta P3.8A ¿Cuánto gana o recibe usted por...\n",
       "Name: nombre_campo, dtype: object"
      ]
     },
     "execution_count": 12,
     "metadata": {},
     "output_type": "execute_result"
    }
   ],
   "source": [
    "tmodulo[\"diccionario\"][tmodulo[\"diccionario\"][\"nemónico\"] == \"p3_8a\"][\"nombre_campo\"]"
   ]
  },
  {
   "cell_type": "code",
   "execution_count": 13,
   "metadata": {},
   "outputs": [
    {
     "data": {
      "text/html": [
       "<div>\n",
       "<style scoped>\n",
       "    .dataframe tbody tr th:only-of-type {\n",
       "        vertical-align: middle;\n",
       "    }\n",
       "\n",
       "    .dataframe tbody tr th {\n",
       "        vertical-align: top;\n",
       "    }\n",
       "\n",
       "    .dataframe thead th {\n",
       "        text-align: right;\n",
       "    }\n",
       "</style>\n",
       "<table border=\"1\" class=\"dataframe\">\n",
       "  <thead>\n",
       "    <tr style=\"text-align: right;\">\n",
       "      <th></th>\n",
       "      <th>cve</th>\n",
       "      <th>descrip</th>\n",
       "    </tr>\n",
       "  </thead>\n",
       "  <tbody>\n",
       "    <tr>\n",
       "      <th>0</th>\n",
       "      <td>0</td>\n",
       "      <td>No recibe ingresos</td>\n",
       "    </tr>\n",
       "    <tr>\n",
       "      <th>1</th>\n",
       "      <td>00001...97999</td>\n",
       "      <td>Ingresos</td>\n",
       "    </tr>\n",
       "    <tr>\n",
       "      <th>2</th>\n",
       "      <td>98000</td>\n",
       "      <td>$98 000 y más</td>\n",
       "    </tr>\n",
       "    <tr>\n",
       "      <th>3</th>\n",
       "      <td>99888</td>\n",
       "      <td>No responde</td>\n",
       "    </tr>\n",
       "  </tbody>\n",
       "</table>\n",
       "</div>"
      ],
      "text/plain": [
       "             cve             descrip\n",
       "0              0  No recibe ingresos\n",
       "1  00001...97999            Ingresos\n",
       "2          98000       $98 000 y más\n",
       "3          99888         No responde"
      ]
     },
     "execution_count": 13,
     "metadata": {},
     "output_type": "execute_result"
    }
   ],
   "source": [
    "tmodulo[\"catalogos\"][\"p3_8a\"]"
   ]
  },
  {
   "cell_type": "markdown",
   "metadata": {},
   "source": [
    "Se observa la misma situacion, en este caso con los ingresos. Siendo el numero dado un numero actual, real.\n"
   ]
  },
  {
   "cell_type": "code",
   "execution_count": 14,
   "metadata": {},
   "outputs": [],
   "source": [
    "tmodulo[\"catalogos\"][\"p3_8a\"] = tmodulo[\"catalogos\"][\"p3_8a\"].drop(1, axis=0)"
   ]
  },
  {
   "cell_type": "markdown",
   "metadata": {},
   "source": [
    "Removiendo p10_9_2"
   ]
  },
  {
   "cell_type": "code",
   "execution_count": 15,
   "metadata": {},
   "outputs": [
    {
     "data": {
      "text/html": [
       "<div>\n",
       "<style scoped>\n",
       "    .dataframe tbody tr th:only-of-type {\n",
       "        vertical-align: middle;\n",
       "    }\n",
       "\n",
       "    .dataframe tbody tr th {\n",
       "        vertical-align: top;\n",
       "    }\n",
       "\n",
       "    .dataframe thead th {\n",
       "        text-align: right;\n",
       "    }\n",
       "</style>\n",
       "<table border=\"1\" class=\"dataframe\">\n",
       "  <thead>\n",
       "    <tr style=\"text-align: right;\">\n",
       "      <th></th>\n",
       "      <th>cve</th>\n",
       "      <th>descrip</th>\n",
       "    </tr>\n",
       "  </thead>\n",
       "  <tbody>\n",
       "    <tr>\n",
       "      <th>0</th>\n",
       "      <td>00...59</td>\n",
       "      <td>Minutos</td>\n",
       "    </tr>\n",
       "    <tr>\n",
       "      <th>1</th>\n",
       "      <td>99</td>\n",
       "      <td>No sabe</td>\n",
       "    </tr>\n",
       "  </tbody>\n",
       "</table>\n",
       "</div>"
      ],
      "text/plain": [
       "       cve  descrip\n",
       "0  00...59  Minutos\n",
       "1       99  No sabe"
      ]
     },
     "execution_count": 15,
     "metadata": {},
     "output_type": "execute_result"
    }
   ],
   "source": [
    "tmodulo[\"catalogos\"][\"p10_9_2\"]"
   ]
  },
  {
   "cell_type": "code",
   "execution_count": 16,
   "metadata": {},
   "outputs": [],
   "source": [
    "tmodulo[\"catalogos\"][\"p10_9_2\"] = tmodulo[\"catalogos\"][\"p10_9_2\"].drop(0, axis=0)"
   ]
  },
  {
   "cell_type": "markdown",
   "metadata": {},
   "source": [
    "Removiendo p5_12"
   ]
  },
  {
   "cell_type": "code",
   "execution_count": 17,
   "metadata": {},
   "outputs": [
    {
     "data": {
      "text/html": [
       "<div>\n",
       "<style scoped>\n",
       "    .dataframe tbody tr th:only-of-type {\n",
       "        vertical-align: middle;\n",
       "    }\n",
       "\n",
       "    .dataframe tbody tr th {\n",
       "        vertical-align: top;\n",
       "    }\n",
       "\n",
       "    .dataframe thead th {\n",
       "        text-align: right;\n",
       "    }\n",
       "</style>\n",
       "<table border=\"1\" class=\"dataframe\">\n",
       "  <thead>\n",
       "    <tr style=\"text-align: right;\">\n",
       "      <th></th>\n",
       "      <th>cve</th>\n",
       "      <th>descrip</th>\n",
       "    </tr>\n",
       "  </thead>\n",
       "  <tbody>\n",
       "    <tr>\n",
       "      <th>0</th>\n",
       "      <td>0</td>\n",
       "      <td>No la utiliza</td>\n",
       "    </tr>\n",
       "    <tr>\n",
       "      <th>1</th>\n",
       "      <td>01...87</td>\n",
       "      <td>Número de veces</td>\n",
       "    </tr>\n",
       "    <tr>\n",
       "      <th>2</th>\n",
       "      <td>88</td>\n",
       "      <td>Menos de una vez al mes</td>\n",
       "    </tr>\n",
       "  </tbody>\n",
       "</table>\n",
       "</div>"
      ],
      "text/plain": [
       "       cve                  descrip\n",
       "0        0            No la utiliza\n",
       "1  01...87          Número de veces\n",
       "2       88  Menos de una vez al mes"
      ]
     },
     "execution_count": 17,
     "metadata": {},
     "output_type": "execute_result"
    }
   ],
   "source": [
    "tmodulo[\"catalogos\"][\"p5_12\"]"
   ]
  },
  {
   "cell_type": "code",
   "execution_count": 18,
   "metadata": {},
   "outputs": [],
   "source": [
    "tmodulo[\"catalogos\"][\"p10_9_2\"] = tmodulo[\"catalogos\"][\"p10_9_2\"].drop(1, axis=0)"
   ]
  },
  {
   "cell_type": "markdown",
   "metadata": {},
   "source": [
    "Con el valor p10_6_1"
   ]
  },
  {
   "cell_type": "code",
   "execution_count": 19,
   "metadata": {},
   "outputs": [
    {
     "data": {
      "text/html": [
       "<div>\n",
       "<style scoped>\n",
       "    .dataframe tbody tr th:only-of-type {\n",
       "        vertical-align: middle;\n",
       "    }\n",
       "\n",
       "    .dataframe tbody tr th {\n",
       "        vertical-align: top;\n",
       "    }\n",
       "\n",
       "    .dataframe thead th {\n",
       "        text-align: right;\n",
       "    }\n",
       "</style>\n",
       "<table border=\"1\" class=\"dataframe\">\n",
       "  <thead>\n",
       "    <tr style=\"text-align: right;\">\n",
       "      <th></th>\n",
       "      <th>cve</th>\n",
       "      <th>descrip</th>\n",
       "    </tr>\n",
       "  </thead>\n",
       "  <tbody>\n",
       "    <tr>\n",
       "      <th>0</th>\n",
       "      <td>00...23</td>\n",
       "      <td>Horas</td>\n",
       "    </tr>\n",
       "    <tr>\n",
       "      <th>1</th>\n",
       "      <td>99</td>\n",
       "      <td>No sabe</td>\n",
       "    </tr>\n",
       "  </tbody>\n",
       "</table>\n",
       "</div>"
      ],
      "text/plain": [
       "       cve  descrip\n",
       "0  00...23    Horas\n",
       "1       99  No sabe"
      ]
     },
     "execution_count": 19,
     "metadata": {},
     "output_type": "execute_result"
    }
   ],
   "source": [
    "tmodulo[\"catalogos\"][\"p10_6_1\"]"
   ]
  },
  {
   "cell_type": "code",
   "execution_count": 20,
   "metadata": {},
   "outputs": [],
   "source": [
    "tmodulo[\"catalogos\"][\"p10_6_1\"] = tmodulo[\"catalogos\"][\"p10_6_1\"].drop(0, axis=0)"
   ]
  },
  {
   "cell_type": "markdown",
   "metadata": {},
   "source": [
    "Con el valor p10_9_1"
   ]
  },
  {
   "cell_type": "code",
   "execution_count": 21,
   "metadata": {},
   "outputs": [
    {
     "data": {
      "text/html": [
       "<div>\n",
       "<style scoped>\n",
       "    .dataframe tbody tr th:only-of-type {\n",
       "        vertical-align: middle;\n",
       "    }\n",
       "\n",
       "    .dataframe tbody tr th {\n",
       "        vertical-align: top;\n",
       "    }\n",
       "\n",
       "    .dataframe thead th {\n",
       "        text-align: right;\n",
       "    }\n",
       "</style>\n",
       "<table border=\"1\" class=\"dataframe\">\n",
       "  <thead>\n",
       "    <tr style=\"text-align: right;\">\n",
       "      <th></th>\n",
       "      <th>cve</th>\n",
       "      <th>descrip</th>\n",
       "    </tr>\n",
       "  </thead>\n",
       "  <tbody>\n",
       "    <tr>\n",
       "      <th>0</th>\n",
       "      <td>00...23</td>\n",
       "      <td>Horas</td>\n",
       "    </tr>\n",
       "    <tr>\n",
       "      <th>1</th>\n",
       "      <td>99</td>\n",
       "      <td>No sabe</td>\n",
       "    </tr>\n",
       "  </tbody>\n",
       "</table>\n",
       "</div>"
      ],
      "text/plain": [
       "       cve  descrip\n",
       "0  00...23    Horas\n",
       "1       99  No sabe"
      ]
     },
     "execution_count": 21,
     "metadata": {},
     "output_type": "execute_result"
    }
   ],
   "source": [
    "tmodulo[\"catalogos\"][\"p10_9_1\"]"
   ]
  },
  {
   "cell_type": "code",
   "execution_count": 22,
   "metadata": {},
   "outputs": [],
   "source": [
    "tmodulo[\"catalogos\"][\"p10_9_1\"] = tmodulo[\"catalogos\"][\"p10_9_1\"].drop(0, axis=0)"
   ]
  },
  {
   "cell_type": "markdown",
   "metadata": {},
   "source": [
    "Con el valor p10_3_1"
   ]
  },
  {
   "cell_type": "code",
   "execution_count": 23,
   "metadata": {},
   "outputs": [
    {
     "data": {
      "text/html": [
       "<div>\n",
       "<style scoped>\n",
       "    .dataframe tbody tr th:only-of-type {\n",
       "        vertical-align: middle;\n",
       "    }\n",
       "\n",
       "    .dataframe tbody tr th {\n",
       "        vertical-align: top;\n",
       "    }\n",
       "\n",
       "    .dataframe thead th {\n",
       "        text-align: right;\n",
       "    }\n",
       "</style>\n",
       "<table border=\"1\" class=\"dataframe\">\n",
       "  <thead>\n",
       "    <tr style=\"text-align: right;\">\n",
       "      <th></th>\n",
       "      <th>cve</th>\n",
       "      <th>descrip</th>\n",
       "    </tr>\n",
       "  </thead>\n",
       "  <tbody>\n",
       "    <tr>\n",
       "      <th>0</th>\n",
       "      <td>00...23</td>\n",
       "      <td>Horas</td>\n",
       "    </tr>\n",
       "    <tr>\n",
       "      <th>1</th>\n",
       "      <td>99</td>\n",
       "      <td>No sabe</td>\n",
       "    </tr>\n",
       "  </tbody>\n",
       "</table>\n",
       "</div>"
      ],
      "text/plain": [
       "       cve  descrip\n",
       "0  00...23    Horas\n",
       "1       99  No sabe"
      ]
     },
     "execution_count": 23,
     "metadata": {},
     "output_type": "execute_result"
    }
   ],
   "source": [
    "tmodulo[\"catalogos\"][\"p10_3_1\"]"
   ]
  },
  {
   "cell_type": "code",
   "execution_count": 24,
   "metadata": {},
   "outputs": [],
   "source": [
    "tmodulo[\"catalogos\"][\"p10_3_1\"] = tmodulo[\"catalogos\"][\"p10_3_1\"].drop(0, axis=0)"
   ]
  },
  {
   "cell_type": "markdown",
   "metadata": {},
   "source": [
    "p10_6_2"
   ]
  },
  {
   "cell_type": "code",
   "execution_count": 25,
   "metadata": {},
   "outputs": [
    {
     "data": {
      "text/html": [
       "<div>\n",
       "<style scoped>\n",
       "    .dataframe tbody tr th:only-of-type {\n",
       "        vertical-align: middle;\n",
       "    }\n",
       "\n",
       "    .dataframe tbody tr th {\n",
       "        vertical-align: top;\n",
       "    }\n",
       "\n",
       "    .dataframe thead th {\n",
       "        text-align: right;\n",
       "    }\n",
       "</style>\n",
       "<table border=\"1\" class=\"dataframe\">\n",
       "  <thead>\n",
       "    <tr style=\"text-align: right;\">\n",
       "      <th></th>\n",
       "      <th>cve</th>\n",
       "      <th>descrip</th>\n",
       "    </tr>\n",
       "  </thead>\n",
       "  <tbody>\n",
       "    <tr>\n",
       "      <th>0</th>\n",
       "      <td>00...59</td>\n",
       "      <td>Minutos</td>\n",
       "    </tr>\n",
       "    <tr>\n",
       "      <th>1</th>\n",
       "      <td>99</td>\n",
       "      <td>No sabe</td>\n",
       "    </tr>\n",
       "  </tbody>\n",
       "</table>\n",
       "</div>"
      ],
      "text/plain": [
       "       cve  descrip\n",
       "0  00...59  Minutos\n",
       "1       99  No sabe"
      ]
     },
     "execution_count": 25,
     "metadata": {},
     "output_type": "execute_result"
    }
   ],
   "source": [
    "tmodulo[\"catalogos\"][\"p10_6_2\"]"
   ]
  },
  {
   "cell_type": "code",
   "execution_count": 26,
   "metadata": {},
   "outputs": [],
   "source": [
    "tmodulo[\"catalogos\"][\"p10_6_2\"] = tmodulo[\"catalogos\"][\"p10_6_2\"].drop(0, axis=0)"
   ]
  },
  {
   "cell_type": "markdown",
   "metadata": {},
   "source": [
    "p6_9"
   ]
  },
  {
   "cell_type": "code",
   "execution_count": 27,
   "metadata": {},
   "outputs": [
    {
     "data": {
      "text/html": [
       "<div>\n",
       "<style scoped>\n",
       "    .dataframe tbody tr th:only-of-type {\n",
       "        vertical-align: middle;\n",
       "    }\n",
       "\n",
       "    .dataframe tbody tr th {\n",
       "        vertical-align: top;\n",
       "    }\n",
       "\n",
       "    .dataframe thead th {\n",
       "        text-align: right;\n",
       "    }\n",
       "</style>\n",
       "<table border=\"1\" class=\"dataframe\">\n",
       "  <thead>\n",
       "    <tr style=\"text-align: right;\">\n",
       "      <th></th>\n",
       "      <th>cve</th>\n",
       "      <th>descrip</th>\n",
       "    </tr>\n",
       "  </thead>\n",
       "  <tbody>\n",
       "    <tr>\n",
       "      <th>0</th>\n",
       "      <td>0</td>\n",
       "      <td>No la utiliza</td>\n",
       "    </tr>\n",
       "    <tr>\n",
       "      <th>1</th>\n",
       "      <td>01...87</td>\n",
       "      <td>Número de veces</td>\n",
       "    </tr>\n",
       "    <tr>\n",
       "      <th>2</th>\n",
       "      <td>88</td>\n",
       "      <td>Menos de una vez al mes</td>\n",
       "    </tr>\n",
       "  </tbody>\n",
       "</table>\n",
       "</div>"
      ],
      "text/plain": [
       "       cve                  descrip\n",
       "0        0            No la utiliza\n",
       "1  01...87          Número de veces\n",
       "2       88  Menos de una vez al mes"
      ]
     },
     "execution_count": 27,
     "metadata": {},
     "output_type": "execute_result"
    }
   ],
   "source": [
    "tmodulo[\"catalogos\"][\"p6_9\"]"
   ]
  },
  {
   "cell_type": "code",
   "execution_count": 28,
   "metadata": {},
   "outputs": [],
   "source": [
    "tmodulo[\"catalogos\"][\"p6_9\"] = tmodulo[\"catalogos\"][\"p6_9\"].drop(1, axis=0)"
   ]
  },
  {
   "cell_type": "markdown",
   "metadata": {},
   "source": [
    "p10_3_2"
   ]
  },
  {
   "cell_type": "code",
   "execution_count": 29,
   "metadata": {},
   "outputs": [
    {
     "data": {
      "text/html": [
       "<div>\n",
       "<style scoped>\n",
       "    .dataframe tbody tr th:only-of-type {\n",
       "        vertical-align: middle;\n",
       "    }\n",
       "\n",
       "    .dataframe tbody tr th {\n",
       "        vertical-align: top;\n",
       "    }\n",
       "\n",
       "    .dataframe thead th {\n",
       "        text-align: right;\n",
       "    }\n",
       "</style>\n",
       "<table border=\"1\" class=\"dataframe\">\n",
       "  <thead>\n",
       "    <tr style=\"text-align: right;\">\n",
       "      <th></th>\n",
       "      <th>cve</th>\n",
       "      <th>descrip</th>\n",
       "    </tr>\n",
       "  </thead>\n",
       "  <tbody>\n",
       "    <tr>\n",
       "      <th>0</th>\n",
       "      <td>00...59</td>\n",
       "      <td>Minutos</td>\n",
       "    </tr>\n",
       "    <tr>\n",
       "      <th>1</th>\n",
       "      <td>99</td>\n",
       "      <td>No sabe</td>\n",
       "    </tr>\n",
       "  </tbody>\n",
       "</table>\n",
       "</div>"
      ],
      "text/plain": [
       "       cve  descrip\n",
       "0  00...59  Minutos\n",
       "1       99  No sabe"
      ]
     },
     "execution_count": 29,
     "metadata": {},
     "output_type": "execute_result"
    }
   ],
   "source": [
    "tmodulo[\"catalogos\"][\"p10_3_2\"]"
   ]
  },
  {
   "cell_type": "code",
   "execution_count": 30,
   "metadata": {},
   "outputs": [],
   "source": [
    "tmodulo[\"catalogos\"][\"p10_3_2\"] = tmodulo[\"catalogos\"][\"p10_3_2\"].drop(0, axis=0)"
   ]
  },
  {
   "cell_type": "markdown",
   "metadata": {},
   "source": [
    "Reemplazando valores numericos por categoricos ... "
   ]
  },
  {
   "cell_type": "markdown",
   "metadata": {},
   "source": [
    "Analizando cada valor"
   ]
  },
  {
   "cell_type": "code",
   "execution_count": 31,
   "metadata": {},
   "outputs": [
    {
     "data": {
      "text/html": [
       "<div>\n",
       "<style scoped>\n",
       "    .dataframe tbody tr th:only-of-type {\n",
       "        vertical-align: middle;\n",
       "    }\n",
       "\n",
       "    .dataframe tbody tr th {\n",
       "        vertical-align: top;\n",
       "    }\n",
       "\n",
       "    .dataframe thead th {\n",
       "        text-align: right;\n",
       "    }\n",
       "</style>\n",
       "<table border=\"1\" class=\"dataframe\">\n",
       "  <thead>\n",
       "    <tr style=\"text-align: right;\">\n",
       "      <th></th>\n",
       "      <th>nombre_campo</th>\n",
       "      <th>longitud</th>\n",
       "      <th>tipo</th>\n",
       "      <th>nemónico</th>\n",
       "      <th>catálogo</th>\n",
       "      <th>rango_claves</th>\n",
       "    </tr>\n",
       "  </thead>\n",
       "  <tbody>\n",
       "    <tr>\n",
       "      <th>0</th>\n",
       "      <td>Número de folio</td>\n",
       "      <td>5</td>\n",
       "      <td>C</td>\n",
       "      <td>folio</td>\n",
       "      <td>NaN</td>\n",
       "      <td>00001...13352</td>\n",
       "    </tr>\n",
       "    <tr>\n",
       "      <th>1</th>\n",
       "      <td>Número de vivienda seleccionada</td>\n",
       "      <td>2</td>\n",
       "      <td>C</td>\n",
       "      <td>viv_sel</td>\n",
       "      <td>NaN</td>\n",
       "      <td>01...25</td>\n",
       "    </tr>\n",
       "    <tr>\n",
       "      <th>2</th>\n",
       "      <td>Número de hogar en la vivienda</td>\n",
       "      <td>1</td>\n",
       "      <td>C</td>\n",
       "      <td>hogar</td>\n",
       "      <td>NaN</td>\n",
       "      <td>1...5</td>\n",
       "    </tr>\n",
       "    <tr>\n",
       "      <th>3</th>\n",
       "      <td>Número de renglón</td>\n",
       "      <td>2</td>\n",
       "      <td>C</td>\n",
       "      <td>n_ren</td>\n",
       "      <td>NaN</td>\n",
       "      <td>01...30</td>\n",
       "    </tr>\n",
       "    <tr>\n",
       "      <th>4</th>\n",
       "      <td>Pregunta P2.3 ¿Qué es (NOMBRE) de la (del) jef...</td>\n",
       "      <td>1</td>\n",
       "      <td>C</td>\n",
       "      <td>p2_3</td>\n",
       "      <td>p2_3</td>\n",
       "      <td>1...6</td>\n",
       "    </tr>\n",
       "    <tr>\n",
       "      <th>5</th>\n",
       "      <td>Pregunta SEXO (NOMBRE) es hombre (NOMBRE) es m...</td>\n",
       "      <td>1</td>\n",
       "      <td>C</td>\n",
       "      <td>sexo</td>\n",
       "      <td>sexo</td>\n",
       "      <td>1,2</td>\n",
       "    </tr>\n",
       "    <tr>\n",
       "      <th>6</th>\n",
       "      <td>Pregunta EDAD ¿Cuántos años cumplidos tiene (N...</td>\n",
       "      <td>2</td>\n",
       "      <td>C</td>\n",
       "      <td>edad</td>\n",
       "      <td>edad</td>\n",
       "      <td>00...99</td>\n",
       "    </tr>\n",
       "    <tr>\n",
       "      <th>7</th>\n",
       "      <td>Pregunta NIV ¿Hasta qué año o grado aprobó (NO...</td>\n",
       "      <td>2</td>\n",
       "      <td>C</td>\n",
       "      <td>niv</td>\n",
       "      <td>niv</td>\n",
       "      <td>00...09,99</td>\n",
       "    </tr>\n",
       "    <tr>\n",
       "      <th>8</th>\n",
       "      <td>Pregunta GRA ¿Hasta qué año o grado aprobó (NO...</td>\n",
       "      <td>1</td>\n",
       "      <td>C</td>\n",
       "      <td>gra</td>\n",
       "      <td>NaN</td>\n",
       "      <td>0...9</td>\n",
       "    </tr>\n",
       "    <tr>\n",
       "      <th>9</th>\n",
       "      <td>Tamaño de localidad</td>\n",
       "      <td>1</td>\n",
       "      <td>C</td>\n",
       "      <td>tloc</td>\n",
       "      <td>tloc</td>\n",
       "      <td>1...4</td>\n",
       "    </tr>\n",
       "    <tr>\n",
       "      <th>10</th>\n",
       "      <td>Región</td>\n",
       "      <td>1</td>\n",
       "      <td>C</td>\n",
       "      <td>region</td>\n",
       "      <td>region</td>\n",
       "      <td>1...6</td>\n",
       "    </tr>\n",
       "    <tr>\n",
       "      <th>11</th>\n",
       "      <td>Estrato de diseño muestral</td>\n",
       "      <td>3</td>\n",
       "      <td>C</td>\n",
       "      <td>est_dis</td>\n",
       "      <td>NaN</td>\n",
       "      <td>001...235</td>\n",
       "    </tr>\n",
       "    <tr>\n",
       "      <th>12</th>\n",
       "      <td>UPM de diseño muestral</td>\n",
       "      <td>7</td>\n",
       "      <td>C</td>\n",
       "      <td>upm_dis</td>\n",
       "      <td>NaN</td>\n",
       "      <td>0000001...0002013</td>\n",
       "    </tr>\n",
       "    <tr>\n",
       "      <th>13</th>\n",
       "      <td>Factor de expansión</td>\n",
       "      <td>5</td>\n",
       "      <td>C</td>\n",
       "      <td>fac_hog</td>\n",
       "      <td>NaN</td>\n",
       "      <td>00000...99999</td>\n",
       "    </tr>\n",
       "  </tbody>\n",
       "</table>\n",
       "</div>"
      ],
      "text/plain": [
       "                                         nombre_campo  longitud tipo nemónico  \\\n",
       "0                                     Número de folio         5    C    folio   \n",
       "1                     Número de vivienda seleccionada         2    C  viv_sel   \n",
       "2                      Número de hogar en la vivienda         1    C    hogar   \n",
       "3                                   Número de renglón         2    C    n_ren   \n",
       "4   Pregunta P2.3 ¿Qué es (NOMBRE) de la (del) jef...         1    C     p2_3   \n",
       "5   Pregunta SEXO (NOMBRE) es hombre (NOMBRE) es m...         1    C     sexo   \n",
       "6   Pregunta EDAD ¿Cuántos años cumplidos tiene (N...         2    C     edad   \n",
       "7   Pregunta NIV ¿Hasta qué año o grado aprobó (NO...         2    C      niv   \n",
       "8   Pregunta GRA ¿Hasta qué año o grado aprobó (NO...         1    C      gra   \n",
       "9                                 Tamaño de localidad         1    C     tloc   \n",
       "10                                             Región         1    C   region   \n",
       "11                         Estrato de diseño muestral         3    C  est_dis   \n",
       "12                             UPM de diseño muestral         7    C  upm_dis   \n",
       "13                                Factor de expansión         5    C  fac_hog   \n",
       "\n",
       "   catálogo       rango_claves  \n",
       "0       NaN      00001...13352  \n",
       "1       NaN            01...25  \n",
       "2       NaN              1...5  \n",
       "3       NaN            01...30  \n",
       "4      p2_3              1...6  \n",
       "5      sexo                1,2  \n",
       "6      edad            00...99  \n",
       "7       niv         00...09,99  \n",
       "8       NaN              0...9  \n",
       "9      tloc              1...4  \n",
       "10   region              1...6  \n",
       "11      NaN          001...235  \n",
       "12      NaN  0000001...0002013  \n",
       "13      NaN      00000...99999  "
      ]
     },
     "execution_count": 31,
     "metadata": {},
     "output_type": "execute_result"
    }
   ],
   "source": [
    "tsdem[\"diccionario\"]"
   ]
  },
  {
   "cell_type": "markdown",
   "metadata": {},
   "source": [
    "Analizando el diccionario, se pueden observar varias variables del tipo categorico, haciendo una recopilacion de las mismas, y basandose en \"catalogos\", ya que se haran cambios de variables "
   ]
  },
  {
   "cell_type": "markdown",
   "metadata": {},
   "source": [
    "Haciendo la conversion de los valores de df, a valores proporcionados por \"catalogos\":"
   ]
  },
  {
   "cell_type": "code",
   "execution_count": 32,
   "metadata": {},
   "outputs": [],
   "source": [
    "import warnings\n",
    "\n",
    "def cambiar_valores(archivo): #se recibe el diccionario general\n",
    "    \"\"\"\n",
    "    Esta funcion esta diseñada para recibir un diccionario con las llaves df, diccionario y catalogos.\n",
    "    Se va a encargar de hacer una trasnformacion de valores dentro del DF por valores descriptores en \n",
    "    otro dataframe ubicado en catalogos\n",
    "    \"\"\"\n",
    "    #Se recorren los valores de catalogo en diccionario, esto para ver que archivos estan disponibles\n",
    "    for indice in archivo[\"diccionario\"][\"catálogo\"][pd.notnull(archivo[\"diccionario\"][\"catálogo\"])]:\n",
    "        #Se accede a cada uno de los catalogos y se recorren los valores CVE \n",
    "        for cve in archivo[\"catalogos\"][indice][\"cve\"]:\n",
    "            #Se filtran en el DF los valores del CVE recorrido\n",
    "            #Se hace la asignacion a cada valor filtrado del descrip ubicado en catalogos\n",
    "            archivo[\"df\"][indice.upper()][archivo[\"df\"][indice.upper()] == cve] = archivo[\"catalogos\"][indice][\"descrip\"][archivo[\"catalogos\"][indice][\"cve\"] == cve].values[0]\n",
    " "
   ]
  },
  {
   "cell_type": "code",
   "execution_count": 33,
   "metadata": {},
   "outputs": [],
   "source": [
    "warnings.filterwarnings(\"ignore\")\n",
    "\n",
    "cambiar_valores(tsdem)\n",
    "cambiar_valores(tmodulo)"
   ]
  },
  {
   "cell_type": "code",
   "execution_count": 34,
   "metadata": {},
   "outputs": [
    {
     "data": {
      "text/html": [
       "<div>\n",
       "<style scoped>\n",
       "    .dataframe tbody tr th:only-of-type {\n",
       "        vertical-align: middle;\n",
       "    }\n",
       "\n",
       "    .dataframe tbody tr th {\n",
       "        vertical-align: top;\n",
       "    }\n",
       "\n",
       "    .dataframe thead th {\n",
       "        text-align: right;\n",
       "    }\n",
       "</style>\n",
       "<table border=\"1\" class=\"dataframe\">\n",
       "  <thead>\n",
       "    <tr style=\"text-align: right;\">\n",
       "      <th></th>\n",
       "      <th>FOLIO</th>\n",
       "      <th>VIV_SEL</th>\n",
       "      <th>HOGAR</th>\n",
       "      <th>N_REN</th>\n",
       "      <th>P2_3</th>\n",
       "      <th>SEXO</th>\n",
       "      <th>EDAD</th>\n",
       "      <th>NIV</th>\n",
       "      <th>GRA</th>\n",
       "      <th>TLOC</th>\n",
       "      <th>REGION</th>\n",
       "      <th>EST_DIS</th>\n",
       "      <th>UPM_DIS</th>\n",
       "      <th>FAC_HOG</th>\n",
       "    </tr>\n",
       "  </thead>\n",
       "  <tbody>\n",
       "    <tr>\n",
       "      <th>33682</th>\n",
       "      <td>9538</td>\n",
       "      <td>5</td>\n",
       "      <td>1</td>\n",
       "      <td>5</td>\n",
       "      <td>Hija(o)</td>\n",
       "      <td>Hombre</td>\n",
       "      <td>19</td>\n",
       "      <td>NaN</td>\n",
       "      <td>NaN</td>\n",
       "      <td>100 000 y más habitantes</td>\n",
       "      <td>Noreste (Coahuila, Nuevo León, San Luis Potosí...</td>\n",
       "      <td>172</td>\n",
       "      <td>1475</td>\n",
       "      <td>1305</td>\n",
       "    </tr>\n",
       "    <tr>\n",
       "      <th>24681</th>\n",
       "      <td>7020</td>\n",
       "      <td>10</td>\n",
       "      <td>1</td>\n",
       "      <td>2</td>\n",
       "      <td>Esposa(o) o compañera(o)</td>\n",
       "      <td>Mujer</td>\n",
       "      <td>46</td>\n",
       "      <td>NaN</td>\n",
       "      <td>NaN</td>\n",
       "      <td>2 500 a 14 999 habitantes</td>\n",
       "      <td>Centro Sur y Oriente (Estado de México, Hidalg...</td>\n",
       "      <td>110</td>\n",
       "      <td>1106</td>\n",
       "      <td>1212</td>\n",
       "    </tr>\n",
       "    <tr>\n",
       "      <th>7840</th>\n",
       "      <td>2298</td>\n",
       "      <td>8</td>\n",
       "      <td>1</td>\n",
       "      <td>2</td>\n",
       "      <td>Esposa(o) o compañera(o)</td>\n",
       "      <td>Mujer</td>\n",
       "      <td>26</td>\n",
       "      <td>NaN</td>\n",
       "      <td>NaN</td>\n",
       "      <td>2 500 a 14 999 habitantes</td>\n",
       "      <td>Occidente y Bajío  (Aguascalientes, Guanajuato...</td>\n",
       "      <td>36</td>\n",
       "      <td>392</td>\n",
       "      <td>507</td>\n",
       "    </tr>\n",
       "    <tr>\n",
       "      <th>45311</th>\n",
       "      <td>12868</td>\n",
       "      <td>2</td>\n",
       "      <td>1</td>\n",
       "      <td>5</td>\n",
       "      <td>Otro parentesco</td>\n",
       "      <td>Mujer</td>\n",
       "      <td>18</td>\n",
       "      <td>NaN</td>\n",
       "      <td>NaN</td>\n",
       "      <td>15 000 a 99 999 habitantes</td>\n",
       "      <td>Sur (Campeche, Chiapas, Guerrero, Quintana Roo...</td>\n",
       "      <td>228</td>\n",
       "      <td>1968</td>\n",
       "      <td>2315</td>\n",
       "    </tr>\n",
       "    <tr>\n",
       "      <th>3051</th>\n",
       "      <td>887</td>\n",
       "      <td>5</td>\n",
       "      <td>1</td>\n",
       "      <td>2</td>\n",
       "      <td>Esposa(o) o compañera(o)</td>\n",
       "      <td>Mujer</td>\n",
       "      <td>21</td>\n",
       "      <td>NaN</td>\n",
       "      <td>NaN</td>\n",
       "      <td>15 000 a 99 999 habitantes</td>\n",
       "      <td>Noroeste (Baja California, Baja California Sur...</td>\n",
       "      <td>14</td>\n",
       "      <td>167</td>\n",
       "      <td>556</td>\n",
       "    </tr>\n",
       "  </tbody>\n",
       "</table>\n",
       "</div>"
      ],
      "text/plain": [
       "       FOLIO  VIV_SEL  HOGAR  N_REN                      P2_3    SEXO  EDAD  \\\n",
       "33682   9538        5      1      5                   Hija(o)  Hombre    19   \n",
       "24681   7020       10      1      2  Esposa(o) o compañera(o)   Mujer    46   \n",
       "7840    2298        8      1      2  Esposa(o) o compañera(o)   Mujer    26   \n",
       "45311  12868        2      1      5           Otro parentesco   Mujer    18   \n",
       "3051     887        5      1      2  Esposa(o) o compañera(o)   Mujer    21   \n",
       "\n",
       "       NIV  GRA                        TLOC  \\\n",
       "33682  NaN  NaN    100 000 y más habitantes   \n",
       "24681  NaN  NaN   2 500 a 14 999 habitantes   \n",
       "7840   NaN  NaN   2 500 a 14 999 habitantes   \n",
       "45311  NaN  NaN  15 000 a 99 999 habitantes   \n",
       "3051   NaN  NaN  15 000 a 99 999 habitantes   \n",
       "\n",
       "                                                  REGION  EST_DIS  UPM_DIS  \\\n",
       "33682  Noreste (Coahuila, Nuevo León, San Luis Potosí...      172     1475   \n",
       "24681  Centro Sur y Oriente (Estado de México, Hidalg...      110     1106   \n",
       "7840   Occidente y Bajío  (Aguascalientes, Guanajuato...       36      392   \n",
       "45311  Sur (Campeche, Chiapas, Guerrero, Quintana Roo...      228     1968   \n",
       "3051   Noroeste (Baja California, Baja California Sur...       14      167   \n",
       "\n",
       "       FAC_HOG  \n",
       "33682     1305  \n",
       "24681     1212  \n",
       "7840       507  \n",
       "45311     2315  \n",
       "3051       556  "
      ]
     },
     "execution_count": 34,
     "metadata": {},
     "output_type": "execute_result"
    }
   ],
   "source": [
    "tsdem[\"df\"].sample(5) # Se tienen valores tipo objeto"
   ]
  },
  {
   "cell_type": "code",
   "execution_count": 35,
   "metadata": {},
   "outputs": [
    {
     "data": {
      "text/html": [
       "<div>\n",
       "<style scoped>\n",
       "    .dataframe tbody tr th:only-of-type {\n",
       "        vertical-align: middle;\n",
       "    }\n",
       "\n",
       "    .dataframe tbody tr th {\n",
       "        vertical-align: top;\n",
       "    }\n",
       "\n",
       "    .dataframe thead th {\n",
       "        text-align: right;\n",
       "    }\n",
       "</style>\n",
       "<table border=\"1\" class=\"dataframe\">\n",
       "  <thead>\n",
       "    <tr style=\"text-align: right;\">\n",
       "      <th></th>\n",
       "      <th>FOLIO</th>\n",
       "      <th>VIV_SEL</th>\n",
       "      <th>HOGAR</th>\n",
       "      <th>N_REN</th>\n",
       "      <th>P3_1_1</th>\n",
       "      <th>P3_1_2</th>\n",
       "      <th>P3_2</th>\n",
       "      <th>P3_3</th>\n",
       "      <th>P3_4</th>\n",
       "      <th>P3_5</th>\n",
       "      <th>...</th>\n",
       "      <th>P14_3_3</th>\n",
       "      <th>P14_4_3</th>\n",
       "      <th>P14_2_4</th>\n",
       "      <th>TLOC</th>\n",
       "      <th>REGION</th>\n",
       "      <th>SEXO</th>\n",
       "      <th>EDAD</th>\n",
       "      <th>EST_DIS</th>\n",
       "      <th>UPM_DIS</th>\n",
       "      <th>FAC_ELE</th>\n",
       "    </tr>\n",
       "  </thead>\n",
       "  <tbody>\n",
       "    <tr>\n",
       "      <th>11990</th>\n",
       "      <td>11814</td>\n",
       "      <td>14</td>\n",
       "      <td>1</td>\n",
       "      <td>1</td>\n",
       "      <td>Preparatoria o bachillerato</td>\n",
       "      <td>2</td>\n",
       "      <td>Es viuda(o)</td>\n",
       "      <td>No</td>\n",
       "      <td>No</td>\n",
       "      <td>Se dedica a los quehaceres del hogar o a cuida...</td>\n",
       "      <td>...</td>\n",
       "      <td>NaN</td>\n",
       "      <td>NaN</td>\n",
       "      <td>No</td>\n",
       "      <td>2 500 a 14 999 habitantes</td>\n",
       "      <td>Noreste (Coahuila, Nuevo León, San Luis Potosí...</td>\n",
       "      <td>Mujer</td>\n",
       "      <td>65</td>\n",
       "      <td>196</td>\n",
       "      <td>1817</td>\n",
       "      <td>1182</td>\n",
       "    </tr>\n",
       "    <tr>\n",
       "      <th>5440</th>\n",
       "      <td>5366</td>\n",
       "      <td>1</td>\n",
       "      <td>1</td>\n",
       "      <td>1</td>\n",
       "      <td>Secundaria</td>\n",
       "      <td>3</td>\n",
       "      <td>Está casada(o)</td>\n",
       "      <td>No</td>\n",
       "      <td>No</td>\n",
       "      <td>Trabajó por lo menos una hora</td>\n",
       "      <td>...</td>\n",
       "      <td>NaN</td>\n",
       "      <td>NaN</td>\n",
       "      <td>No</td>\n",
       "      <td>2 500 a 14 999 habitantes</td>\n",
       "      <td>Centro Sur y Oriente (Estado de México, Hidalg...</td>\n",
       "      <td>Hombre</td>\n",
       "      <td>56</td>\n",
       "      <td>79</td>\n",
       "      <td>878</td>\n",
       "      <td>3602</td>\n",
       "    </tr>\n",
       "    <tr>\n",
       "      <th>5377</th>\n",
       "      <td>5303</td>\n",
       "      <td>15</td>\n",
       "      <td>1</td>\n",
       "      <td>2</td>\n",
       "      <td>Licenciatura o ingeniería (profesional)</td>\n",
       "      <td>4</td>\n",
       "      <td>Es soltera(o)</td>\n",
       "      <td>No</td>\n",
       "      <td>No</td>\n",
       "      <td>Trabajó por lo menos una hora</td>\n",
       "      <td>...</td>\n",
       "      <td>NaN</td>\n",
       "      <td>NaN</td>\n",
       "      <td>No</td>\n",
       "      <td>15 000 a 99 999 habitantes</td>\n",
       "      <td>Centro Sur y Oriente (Estado de México, Hidalg...</td>\n",
       "      <td>Hombre</td>\n",
       "      <td>33</td>\n",
       "      <td>78</td>\n",
       "      <td>873</td>\n",
       "      <td>6633</td>\n",
       "    </tr>\n",
       "    <tr>\n",
       "      <th>9894</th>\n",
       "      <td>9736</td>\n",
       "      <td>1</td>\n",
       "      <td>1</td>\n",
       "      <td>2</td>\n",
       "      <td>Preparatoria o bachillerato</td>\n",
       "      <td>3</td>\n",
       "      <td>Está casada(o)</td>\n",
       "      <td>No</td>\n",
       "      <td>No</td>\n",
       "      <td>Trabajó por lo menos una hora</td>\n",
       "      <td>...</td>\n",
       "      <td>NaN</td>\n",
       "      <td>NaN</td>\n",
       "      <td>No</td>\n",
       "      <td>100 000 y más habitantes</td>\n",
       "      <td>Noreste (Coahuila, Nuevo León, San Luis Potosí...</td>\n",
       "      <td>Mujer</td>\n",
       "      <td>38</td>\n",
       "      <td>171</td>\n",
       "      <td>1522</td>\n",
       "      <td>3076</td>\n",
       "    </tr>\n",
       "    <tr>\n",
       "      <th>6720</th>\n",
       "      <td>6631</td>\n",
       "      <td>8</td>\n",
       "      <td>1</td>\n",
       "      <td>3</td>\n",
       "      <td>Licenciatura o ingeniería (profesional)</td>\n",
       "      <td>4</td>\n",
       "      <td>Es soltera(o)</td>\n",
       "      <td>No</td>\n",
       "      <td>No</td>\n",
       "      <td>Trabajó por lo menos una hora</td>\n",
       "      <td>...</td>\n",
       "      <td>NaN</td>\n",
       "      <td>NaN</td>\n",
       "      <td>No</td>\n",
       "      <td>2 500 a 14 999 habitantes</td>\n",
       "      <td>Occidente y Bajío  (Aguascalientes, Guanajuato...</td>\n",
       "      <td>Hombre</td>\n",
       "      <td>28</td>\n",
       "      <td>103</td>\n",
       "      <td>1051</td>\n",
       "      <td>8468</td>\n",
       "    </tr>\n",
       "  </tbody>\n",
       "</table>\n",
       "<p>5 rows × 382 columns</p>\n",
       "</div>"
      ],
      "text/plain": [
       "       FOLIO  VIV_SEL  HOGAR  N_REN                                   P3_1_1  \\\n",
       "11990  11814       14      1      1              Preparatoria o bachillerato   \n",
       "5440    5366        1      1      1                               Secundaria   \n",
       "5377    5303       15      1      2  Licenciatura o ingeniería (profesional)   \n",
       "9894    9736        1      1      2              Preparatoria o bachillerato   \n",
       "6720    6631        8      1      3  Licenciatura o ingeniería (profesional)   \n",
       "\n",
       "       P3_1_2            P3_2 P3_3 P3_4  \\\n",
       "11990       2     Es viuda(o)   No   No   \n",
       "5440        3  Está casada(o)   No   No   \n",
       "5377        4   Es soltera(o)   No   No   \n",
       "9894        3  Está casada(o)   No   No   \n",
       "6720        4   Es soltera(o)   No   No   \n",
       "\n",
       "                                                    P3_5  ... P14_3_3 P14_4_3  \\\n",
       "11990  Se dedica a los quehaceres del hogar o a cuida...  ...     NaN     NaN   \n",
       "5440                       Trabajó por lo menos una hora  ...     NaN     NaN   \n",
       "5377                       Trabajó por lo menos una hora  ...     NaN     NaN   \n",
       "9894                       Trabajó por lo menos una hora  ...     NaN     NaN   \n",
       "6720                       Trabajó por lo menos una hora  ...     NaN     NaN   \n",
       "\n",
       "       P14_2_4                        TLOC  \\\n",
       "11990       No   2 500 a 14 999 habitantes   \n",
       "5440        No   2 500 a 14 999 habitantes   \n",
       "5377        No  15 000 a 99 999 habitantes   \n",
       "9894        No    100 000 y más habitantes   \n",
       "6720        No   2 500 a 14 999 habitantes   \n",
       "\n",
       "                                                  REGION    SEXO EDAD EST_DIS  \\\n",
       "11990  Noreste (Coahuila, Nuevo León, San Luis Potosí...   Mujer   65     196   \n",
       "5440   Centro Sur y Oriente (Estado de México, Hidalg...  Hombre   56      79   \n",
       "5377   Centro Sur y Oriente (Estado de México, Hidalg...  Hombre   33      78   \n",
       "9894   Noreste (Coahuila, Nuevo León, San Luis Potosí...   Mujer   38     171   \n",
       "6720   Occidente y Bajío  (Aguascalientes, Guanajuato...  Hombre   28     103   \n",
       "\n",
       "      UPM_DIS FAC_ELE  \n",
       "11990    1817    1182  \n",
       "5440      878    3602  \n",
       "5377      873    6633  \n",
       "9894     1522    3076  \n",
       "6720     1051    8468  \n",
       "\n",
       "[5 rows x 382 columns]"
      ]
     },
     "execution_count": 35,
     "metadata": {},
     "output_type": "execute_result"
    }
   ],
   "source": [
    "tmodulo[\"df\"].sample(5)"
   ]
  },
  {
   "cell_type": "markdown",
   "metadata": {},
   "source": [
    "Como siguiente paso, se procede a hacer el cambio al tipo de variable categorico dentro del mismo."
   ]
  },
  {
   "cell_type": "code",
   "execution_count": 36,
   "metadata": {},
   "outputs": [],
   "source": [
    "def categorico(archivo): #se recibe el diccionario general\n",
    "    \"\"\"\n",
    "    Esta funcion esta diseñada para recibir un diccionario con las llaves df, diccionario y catalogos.\n",
    "    Se funcion es hacer un cambio de variables a tipo categoricos, basado en un indice de catalogos\n",
    "    \"\"\"\n",
    "    # Se hace un recorrido de los valores de los catalogos, y convertir cada uno a categorico en DF\n",
    "    for indice in archivo[\"diccionario\"][\"catálogo\"][pd.notnull(archivo[\"diccionario\"][\"catálogo\"])]:\n",
    "        if indice != \"p3_8a\":\n",
    "            archivo[\"df\"][indice.upper()] = archivo[\"df\"][indice.upper()].astype(\"category\")\n",
    "        "
   ]
  },
  {
   "cell_type": "code",
   "execution_count": 37,
   "metadata": {},
   "outputs": [],
   "source": [
    "#Haciendo los cambios a categoricos\n",
    "\n",
    "categorico(tsdem)\n",
    "categorico(tmodulo)"
   ]
  },
  {
   "cell_type": "markdown",
   "metadata": {},
   "source": [
    "Analizando los cambios:"
   ]
  },
  {
   "cell_type": "code",
   "execution_count": 38,
   "metadata": {},
   "outputs": [
    {
     "name": "stdout",
     "output_type": "stream",
     "text": [
      "<class 'pandas.core.frame.DataFrame'>\n",
      "RangeIndex: 47045 entries, 0 to 47044\n",
      "Data columns (total 14 columns):\n",
      " #   Column   Non-Null Count  Dtype   \n",
      "---  ------   --------------  -----   \n",
      " 0   FOLIO    47045 non-null  int64   \n",
      " 1   VIV_SEL  47045 non-null  int64   \n",
      " 2   HOGAR    47045 non-null  int64   \n",
      " 3   N_REN    47045 non-null  int64   \n",
      " 4   P2_3     47045 non-null  category\n",
      " 5   SEXO     47045 non-null  category\n",
      " 6   EDAD     47045 non-null  category\n",
      " 7   NIV      13561 non-null  category\n",
      " 8   GRA      13561 non-null  float64 \n",
      " 9   TLOC     47045 non-null  category\n",
      " 10  REGION   47045 non-null  category\n",
      " 11  EST_DIS  47045 non-null  int64   \n",
      " 12  UPM_DIS  47045 non-null  int64   \n",
      " 13  FAC_HOG  47045 non-null  int64   \n",
      "dtypes: category(6), float64(1), int64(7)\n",
      "memory usage: 3.1 MB\n"
     ]
    }
   ],
   "source": [
    "tsdem[\"df\"].info()"
   ]
  },
  {
   "cell_type": "code",
   "execution_count": 39,
   "metadata": {},
   "outputs": [
    {
     "name": "stdout",
     "output_type": "stream",
     "text": [
      "<class 'pandas.core.frame.DataFrame'>\n",
      "RangeIndex: 13554 entries, 0 to 13553\n",
      "Columns: 382 entries, FOLIO to FAC_ELE\n",
      "dtypes: category(355), float64(19), int64(8)\n",
      "memory usage: 7.4 MB\n"
     ]
    }
   ],
   "source": [
    "tmodulo[\"df\"].info()"
   ]
  },
  {
   "cell_type": "markdown",
   "metadata": {},
   "source": [
    "Acomodando rangos de ingresos"
   ]
  },
  {
   "cell_type": "code",
   "execution_count": 40,
   "metadata": {},
   "outputs": [],
   "source": [
    "indice = \"p3_8a\""
   ]
  },
  {
   "cell_type": "code",
   "execution_count": 41,
   "metadata": {},
   "outputs": [
    {
     "data": {
      "text/html": [
       "<div>\n",
       "<style scoped>\n",
       "    .dataframe tbody tr th:only-of-type {\n",
       "        vertical-align: middle;\n",
       "    }\n",
       "\n",
       "    .dataframe tbody tr th {\n",
       "        vertical-align: top;\n",
       "    }\n",
       "\n",
       "    .dataframe thead th {\n",
       "        text-align: right;\n",
       "    }\n",
       "</style>\n",
       "<table border=\"1\" class=\"dataframe\">\n",
       "  <thead>\n",
       "    <tr style=\"text-align: right;\">\n",
       "      <th></th>\n",
       "      <th>nombre_campo</th>\n",
       "      <th>longitud</th>\n",
       "      <th>tipo</th>\n",
       "      <th>nemónico</th>\n",
       "      <th>catálogo</th>\n",
       "      <th>rango_claves</th>\n",
       "      <th>Unnamed: 6</th>\n",
       "      <th>Unnamed: 7</th>\n",
       "      <th>Unnamed: 8</th>\n",
       "    </tr>\n",
       "  </thead>\n",
       "  <tbody>\n",
       "    <tr>\n",
       "      <th>12</th>\n",
       "      <td>Pregunta P3.8A ¿Cuánto gana o recibe usted por...</td>\n",
       "      <td>5</td>\n",
       "      <td>C</td>\n",
       "      <td>p3_8a</td>\n",
       "      <td>p3_8a</td>\n",
       "      <td>00000...98000,99888</td>\n",
       "      <td>NaN</td>\n",
       "      <td>NaN</td>\n",
       "      <td>NaN</td>\n",
       "    </tr>\n",
       "  </tbody>\n",
       "</table>\n",
       "</div>"
      ],
      "text/plain": [
       "                                         nombre_campo  longitud tipo nemónico  \\\n",
       "12  Pregunta P3.8A ¿Cuánto gana o recibe usted por...         5    C    p3_8a   \n",
       "\n",
       "   catálogo         rango_claves  Unnamed: 6  Unnamed: 7  Unnamed: 8  \n",
       "12    p3_8a  00000...98000,99888         NaN         NaN         NaN  "
      ]
     },
     "execution_count": 41,
     "metadata": {},
     "output_type": "execute_result"
    }
   ],
   "source": [
    "tmodulo[\"diccionario\"][tmodulo[\"diccionario\"][\"nemónico\"] == indice]"
   ]
  },
  {
   "cell_type": "markdown",
   "metadata": {},
   "source": [
    "Se observa que el indice p3_8a engloba a los ingresos"
   ]
  },
  {
   "cell_type": "code",
   "execution_count": 42,
   "metadata": {},
   "outputs": [
    {
     "data": {
      "text/html": [
       "<div>\n",
       "<style scoped>\n",
       "    .dataframe tbody tr th:only-of-type {\n",
       "        vertical-align: middle;\n",
       "    }\n",
       "\n",
       "    .dataframe tbody tr th {\n",
       "        vertical-align: top;\n",
       "    }\n",
       "\n",
       "    .dataframe thead th {\n",
       "        text-align: right;\n",
       "    }\n",
       "</style>\n",
       "<table border=\"1\" class=\"dataframe\">\n",
       "  <thead>\n",
       "    <tr style=\"text-align: right;\">\n",
       "      <th></th>\n",
       "      <th>cve</th>\n",
       "      <th>descrip</th>\n",
       "    </tr>\n",
       "  </thead>\n",
       "  <tbody>\n",
       "    <tr>\n",
       "      <th>0</th>\n",
       "      <td>0</td>\n",
       "      <td>No recibe ingresos</td>\n",
       "    </tr>\n",
       "    <tr>\n",
       "      <th>2</th>\n",
       "      <td>98000</td>\n",
       "      <td>$98 000 y más</td>\n",
       "    </tr>\n",
       "    <tr>\n",
       "      <th>3</th>\n",
       "      <td>99888</td>\n",
       "      <td>No responde</td>\n",
       "    </tr>\n",
       "  </tbody>\n",
       "</table>\n",
       "</div>"
      ],
      "text/plain": [
       "     cve             descrip\n",
       "0      0  No recibe ingresos\n",
       "2  98000       $98 000 y más\n",
       "3  99888         No responde"
      ]
     },
     "execution_count": 42,
     "metadata": {},
     "output_type": "execute_result"
    }
   ],
   "source": [
    "tmodulo[\"catalogos\"][indice]"
   ]
  },
  {
   "cell_type": "markdown",
   "metadata": {},
   "source": [
    "Ingresos de 0 a 98000 "
   ]
  },
  {
   "cell_type": "markdown",
   "metadata": {},
   "source": [
    "El INEGI toma en cuenta la siguiente clasificacion\n",
    "\n",
    "Pesos mexicanos mensuales"
   ]
  },
  {
   "cell_type": "markdown",
   "metadata": {},
   "source": [
    "![Alt text](image.png)"
   ]
  },
  {
   "cell_type": "code",
   "execution_count": 43,
   "metadata": {},
   "outputs": [],
   "source": [
    "def clasificador_ingresos(archivo, indice):\n",
    "    clase_baja_baja = 5400 #5400 a 8900\n",
    "    clase_baja_alta = 8900 #8900 a 12300\n",
    "    clase_media_baja = 12300 #12300 a 19900\n",
    "    clase_media_alta = 19900 #19900 a 27800\n",
    "    clase_alta_baja = 27800 #27800 a 51100\n",
    "    clase_alta_alta = 51100 #mas de 51100\n",
    "    # Definir los límites de las categorías\n",
    "    bins = [0, clase_baja_baja, clase_baja_alta, clase_media_baja, clase_media_alta, clase_alta_baja, clase_alta_alta, 98000]\n",
    "\n",
    "    # Definir los nombres de las categorías\n",
    "    labels = ['clase_baja_absoluta', 'clase_baja_baja', 'clase_baja_alta', 'clase_media_baja', 'clase_media_alta', 'clase_alta_baja', 'clase_alta_alta']\n",
    "    archivo[\"df\"][f\"{indice.upper()}_cat\"] = pd.cut(archivo[\"df\"][indice.upper()], bins=bins, labels=labels)\n"
   ]
  },
  {
   "cell_type": "code",
   "execution_count": 44,
   "metadata": {},
   "outputs": [],
   "source": [
    "clasificador_ingresos(tmodulo, \"p3_8a\")"
   ]
  },
  {
   "cell_type": "code",
   "execution_count": 45,
   "metadata": {},
   "outputs": [
    {
     "data": {
      "text/plain": [
       "0                        NaN\n",
       "1        clase_baja_absoluta\n",
       "2        clase_baja_absoluta\n",
       "3                        NaN\n",
       "4                        NaN\n",
       "                ...         \n",
       "13549                    NaN\n",
       "13550    clase_baja_absoluta\n",
       "13551                    NaN\n",
       "13552    clase_baja_absoluta\n",
       "13553                    NaN\n",
       "Name: P3_8A_cat, Length: 13554, dtype: category\n",
       "Categories (7, object): ['clase_baja_absoluta' < 'clase_baja_baja' < 'clase_baja_alta' < 'clase_media_baja' < 'clase_media_alta' < 'clase_alta_baja' < 'clase_alta_alta']"
      ]
     },
     "execution_count": 45,
     "metadata": {},
     "output_type": "execute_result"
    }
   ],
   "source": [
    "tmodulo[\"df\"][\"P3_8A_cat\"]"
   ]
  },
  {
   "cell_type": "markdown",
   "metadata": {},
   "source": [
    "Creando rangos de edad"
   ]
  },
  {
   "cell_type": "code",
   "execution_count": 48,
   "metadata": {},
   "outputs": [
    {
     "data": {
      "text/html": [
       "<div>\n",
       "<style scoped>\n",
       "    .dataframe tbody tr th:only-of-type {\n",
       "        vertical-align: middle;\n",
       "    }\n",
       "\n",
       "    .dataframe tbody tr th {\n",
       "        vertical-align: top;\n",
       "    }\n",
       "\n",
       "    .dataframe thead th {\n",
       "        text-align: right;\n",
       "    }\n",
       "</style>\n",
       "<table border=\"1\" class=\"dataframe\">\n",
       "  <thead>\n",
       "    <tr style=\"text-align: right;\">\n",
       "      <th></th>\n",
       "      <th>cve</th>\n",
       "      <th>descrip</th>\n",
       "    </tr>\n",
       "  </thead>\n",
       "  <tbody>\n",
       "    <tr>\n",
       "      <th>0</th>\n",
       "      <td>0</td>\n",
       "      <td>Menos de un año</td>\n",
       "    </tr>\n",
       "    <tr>\n",
       "      <th>2</th>\n",
       "      <td>97</td>\n",
       "      <td>97 años y más</td>\n",
       "    </tr>\n",
       "    <tr>\n",
       "      <th>3</th>\n",
       "      <td>98</td>\n",
       "      <td>Edad no especificada en personas de 18 años y más</td>\n",
       "    </tr>\n",
       "    <tr>\n",
       "      <th>4</th>\n",
       "      <td>99</td>\n",
       "      <td>Otra edad no especificada</td>\n",
       "    </tr>\n",
       "  </tbody>\n",
       "</table>\n",
       "</div>"
      ],
      "text/plain": [
       "  cve                                            descrip\n",
       "0   0                                    Menos de un año\n",
       "2  97                                      97 años y más\n",
       "3  98  Edad no especificada en personas de 18 años y más\n",
       "4  99                          Otra edad no especificada"
      ]
     },
     "execution_count": 48,
     "metadata": {},
     "output_type": "execute_result"
    }
   ],
   "source": [
    "tmodulo[\"catalogos\"][\"edad\"]"
   ]
  },
  {
   "cell_type": "code",
   "execution_count": 49,
   "metadata": {},
   "outputs": [],
   "source": [
    "archivo = tmodulo\n",
    "indice = \"edad\"\n",
    "\n",
    "\n",
    "adulto_joven = 18 #5400 a 8900\n",
    "adulto = 40 #8900 a 12300\n",
    "adulto_mayor = 60 #12300 a 19900\n",
    "\n",
    "# Definir los límites de las categorías\n",
    "bins = [0, adulto_joven, adulto, adulto_mayor, 97]\n",
    "\n",
    "# Definir los nombres de las categorías\n",
    "labels = ['adolescencia', 'adulto_joven', 'adulto', 'adulto_mayor']\n",
    "archivo[\"df\"][f\"{indice.upper()}_cat\"] = pd.cut(archivo[\"df\"][indice.upper()], bins=bins, labels=labels)\n"
   ]
  },
  {
   "cell_type": "markdown",
   "metadata": {},
   "source": [
    "elimniando el texto entre parentesis REGION tsdem"
   ]
  },
  {
   "cell_type": "code",
   "execution_count": 73,
   "metadata": {},
   "outputs": [],
   "source": [
    "tsdem['df']['REGION'].replace(\"Noroeste (Baja California, Baja California Sur, Chihuahua, Durango, Sinaloa, Sonora)\", \"Noroeste\", inplace=True)\n",
    "\n",
    "tsdem['df']['REGION'].replace(\"Noreste (Coahuila, Nuevo León, San Luis Potosí, Tamaulipas)\", \"Noreste\", inplace=True)\n",
    "\n",
    "tsdem['df']['REGION'].replace(\"Occidente y Bajío  (Aguascalientes, Guanajuato, Jalisco, Michoacán, Nayarit, Querétaro, Zacatecas, Colima)\", \"Occidente y Bajío\", inplace=True)\n",
    "\n",
    "tsdem['df']['REGION'].replace(\"Ciudad de México (Ciudad de México)\", \"Ciudad de México\", inplace=True)\n",
    "\n",
    "tsdem['df']['REGION'].replace(\"Centro Sur y Oriente (Estado de México, Hidalgo, Morelos, Puebla, Tlaxcala, Veracruz)\", \"Centro Sur y Oriente\", inplace=True)\n",
    "\n",
    "tsdem['df']['REGION'].replace(\"Sur (Campeche, Chiapas, Guerrero, Quintana Roo, Tabasco, Yucatán, Oaxaca)\", \"Sur\", inplace=True)"
   ]
  },
  {
   "cell_type": "code",
   "execution_count": 71,
   "metadata": {},
   "outputs": [
    {
     "data": {
      "text/plain": [
       "0        Occidente y Bajío\n",
       "1        Occidente y Bajío\n",
       "2        Occidente y Bajío\n",
       "3        Occidente y Bajío\n",
       "4        Occidente y Bajío\n",
       "               ...        \n",
       "47040    Occidente y Bajío\n",
       "47041    Occidente y Bajío\n",
       "47042    Occidente y Bajío\n",
       "47043    Occidente y Bajío\n",
       "47044    Occidente y Bajío\n",
       "Name: REGION, Length: 47045, dtype: category\n",
       "Categories (6, object): ['Centro Sur y Oriente (Estado de México, Hidal..., 'Ciudad de México (Ciudad de México)', 'Noreste (Coahuila, Nuevo León, San Luis Potos..., 'Noroeste (Baja California, Baja California Su..., 'Occidente y Bajío', 'Sur (Campeche, Chiapas, Guerrero, Quintana Ro...]"
      ]
     },
     "execution_count": 71,
     "metadata": {},
     "output_type": "execute_result"
    }
   ],
   "source": [
    "tsdem['df']['REGION']"
   ]
  },
  {
   "cell_type": "code",
   "execution_count": null,
   "metadata": {},
   "outputs": [],
   "source": []
  }
 ],
 "metadata": {
  "kernelspec": {
   "display_name": ".venv",
   "language": "python",
   "name": "python3"
  },
  "language_info": {
   "codemirror_mode": {
    "name": "ipython",
    "version": 3
   },
   "file_extension": ".py",
   "mimetype": "text/x-python",
   "name": "python",
   "nbconvert_exporter": "python",
   "pygments_lexer": "ipython3",
   "version": "3.11.4"
  },
  "orig_nbformat": 4
 },
 "nbformat": 4,
 "nbformat_minor": 2
}
