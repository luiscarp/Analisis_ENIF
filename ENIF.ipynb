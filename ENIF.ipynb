{
 "cells": [
  {
   "cell_type": "markdown",
   "metadata": {},
   "source": [
    "# Analisis exploratorio de datos: Encuesta Nacional de Inclusion Financiera (ENIF)\n",
    "\n",
    "## Presenta: Luis Carlos Rodriguez Pacheco\n",
    "\n",
    "## luis.pacheco@train.ia.center\n",
    "\n",
    "## Ciencia de datos Bosch modulo 1: Centro de Inteligencia Artificial (IA-CENTER)\n",
    "\n",
    "\n",
    "\n"
   ]
  },
  {
   "cell_type": "markdown",
   "metadata": {
    "tags": []
   },
   "source": [
    "## Indice de Contenido:\n",
    "\n",
    "### 1. Introducción\n",
    "\n",
    "### 2. Metodología\n",
    "    2.1. Importación de datos\n",
    "    2.2. Análisis exploratorio\n",
    "    2.3. Limpieza de datos\n",
    "    2.4. Preparación de datos\n",
    "    2.5. Visualización de datos (parte teórica)\n",
    "\n",
    "### 3. Resultados y discusiones\n",
    "\n",
    "### 4. Dashboard y conclusiones finales\n",
    "\n",
    "### 5. Bibliografía consultada\n",
    "\n",
    "\n",
    "\n"
   ]
  },
  {
   "cell_type": "markdown",
   "metadata": {},
   "source": [
    "## 1. Introducción \n",
    "\n",
    "La inclusión financiera es un concepto multifactorial, que se define como el acceso y uso\n",
    "de servicios financieros formales bajo una regulación apropiada que garantice esquemas\n",
    "de protección al consumidor y promueva la educación financiera para mejorar la\n",
    "capacidad financiera de todos los segmentos de la población (CNBV, 2020). De esta\n",
    "forma, la inclusión financiera va más allá de la penetración del crédito o el ahorro: implica\n",
    "democratizar el acceso a servicios financieros de calidad y en las condiciones adecuadas\n",
    "para que la población pueda beneficiarse de participar en el sistema financiero.\n",
    "\n",
    "Los beneficios que la inclusión financiera puede tener en una sociedad es un tema que\n",
    "ha generado interés en la literatura, la cual ha documentado efectos tanto a nivel de\n",
    "hogares y empresas como a nivel macroeconómico. Diversos estudios a nivel agregado\n",
    "han encontrado una relación positiva entre una mayor inclusión financiera y el\n",
    "crecimiento y desarrollo económicos (Barajas, et al., 2020; Demirguc-Kunt, et al., 2017; Cull\n",
    "et al., 2014; Beck et al., 2009). Además, investigaciones recientes muestran que el impacto\n",
    "positivo de un sistema financiero de mayor tamaño se incrementa en aquellos países con\n",
    "mayores niveles de inclusión financiera (Svirydzenka, 2016). De forma análoga, la inclusión\n",
    "financiera ha probado ser una herramienta esencial para combatir la desigualdad y la\n",
    "pobreza (Cihak & Sahay, 2020; Loukaianova & Yang, 2018). Además, sus beneficios no se\n",
    "limitan únicamente a la población usuaria, ya que también contribuye a conformar un\n",
    "sistema financiero más estable (Nguyen & Du, 2022; Banna & Alam, 2021; Ahamed &\n",
    "Mallick, 2019), al ofrecer a las instituciones financieras una fuente de fondeo estable a\n",
    "través de la captación, y reducir la toma de riesgos de las instituciones. \n",
    "\n",
    "La importancia de promover la educación financiera entre la población radica en que\n",
    "la evidencia académica ha mostrado que bajos niveles de educación financiera podrían\n",
    "detener el crecimiento de la inclusión financiera (Atkinson & Messy, 2013b). Otras\n",
    "investigaciones han mostrado consistentemente que obtener estas capacidades\n",
    "económico-financieras es esencial para evitar cometer errores financieros, como pueden\n",
    "ser ahorrar en instrumentos no adecuados, no contar con un plan de retiro, tomar riesgos\n",
    "excesivos al invertir, recurrir a fuentes de financiamiento costosas, realizar un manejo\n",
    "inadecuado de sus deudas o ser víctima de fraudes o estafas (Lusardi & Mitchell, 2014).\n",
    "Además, la educación financiera tiene un impacto significativo en el desarrollo\n",
    "económico, ya que, se ha encontrado que mejoras en las competencias económicofinancieras contribuyen a una menor desigualdad de los ingresos (Oliver-Márquez, et al\n",
    "2021, Lusardi, et al.; 2017, Lo Prete, 2013) y reduce los niveles de pobreza (Askar, et al., 2020). \n",
    "\n",
    "Considerando la importancia que tienen la inclusión y la educación financiera como\n",
    "medios complementarios no solo para fomentar un mayor crecimiento económico sino\n",
    "también para mejorar la calidad de vida de la población mexicana, el Gobierno de México ha establecido la Política Nacional de Inclusión Financiera (PNIF), cuyo objetivo\n",
    "primordial es impulsar la inclusión y las competencias económico-financieras, así como\n",
    "la protección a la población usuaria de productos financieros en México. Asimismo, la\n",
    "PNIF Incluye la Estrategia Nacional del Educación Financiera (ENEF), cuyo objetivo es\n",
    "guiar los esfuerzos del país para fomentar el bienestar financiero de la población.\n",
    "Evaluar y dar seguimiento a los avances de esta política sería imposible sin fuentes de\n",
    "datos adecuadas y robustas. Con este fin, la Comisión Nacional Bancaria y de Valores\n",
    "(CNBV), en colaboración con el Instituto Nacional de Estadística y Geografía (INEGI),\n",
    "realizan la Encuesta Nacional de Inclusión Financiera (ENIF). Esta encuesta tiene como\n",
    "objetivo generar información estadística e indicadores oficiales a nivel nacional y regional\n",
    "que permitan a las autoridades financieras hacer diagnósticos, diseñar políticas públicas\n",
    "y establecer metas en materia de inclusión y educación financieras; asimismo, incorporar\n",
    "cambios y actualizaciones requeridas para dar atención a nuevos requerimientos de\n",
    "información y consideraciones en la PNIF.\n",
    "\n",
    "\n",
    "\n"
   ]
  },
  {
   "cell_type": "markdown",
   "metadata": {},
   "source": [
    "## 2. Metodología\n",
    "\n",
    "### 2.1 Importación de datos\n",
    "\n",
    "Del sitio: https://www.inegi.org.mx/programas/enif/2021/#datos_abiertos se hizo la descarga del conjunto de datos comprimidos. Despues de un proceso de descompresión se obtuvieron los conjuntos de datos: tmodulo y tsdem. Ambos se almacenaron en sus correspondientes carpetas.\n",
    "\n",
    "Importante:\n",
    "\n",
    "El presente estudio se baso en dos conjuntos de datos: tsdem y tmodulo. \n",
    "\n",
    "tmodulo: Información de las secciones del módulo. Informacion del hogar en si\n",
    "\n",
    "tsdem: Información de residentes del hogar. Información propia de las personas dentro del hogar.\n",
    "\n",
    "La forma en que los datos se organizan es:\n",
    "\n",
    "Hay un conjunto de datos principal (tmodulo, tsdem), cada feature esta asociada con una clave y un valor, la información de los valores se encuentra en \"catalogos\" alojados dentro del mismo directorio. El significado de cada pregunta se encuentra dentro de diccionario de datos. \n"
   ]
  },
  {
   "cell_type": "code",
   "execution_count": 1,
   "metadata": {},
   "outputs": [],
   "source": [
    "import pandas as pd\n",
    "import matplotlib.pyplot as plt\n",
    "import numpy as np\n",
    "import os"
   ]
  },
  {
   "cell_type": "markdown",
   "metadata": {},
   "source": [
    "Creando una funcion la cual recibe si es tipo tmodulo o tsdem, además del año que se esta investigando. Despliega un diccionario con los datasets: principales, diccionarios y de catalogos (siendo este ultimo, otro diccionario). De tal modo que se importan todos los .csv relacionados en un solo diccionario."
   ]
  },
  {
   "cell_type": "code",
   "execution_count": 2,
   "metadata": {},
   "outputs": [],
   "source": [
    "# Importando conjuntos de datos principales:\n",
    "def leer_conjunto_principal(archivo,year):\n",
    "    mainpath = f\"conjunto_de_datos_{archivo}_enif_{year}\"\n",
    "    df1 = pd.read_csv(f\"{mainpath}/conjunto_de_datos/conjunto_de_datos_{archivo}_enif_{year}.csv\")\n",
    "    dfdict = pd.read_csv(f\"{mainpath}/diccionario_de_datos/diccionario_datos_{archivo}_enif_{year}.csv\")\n",
    "    catalogos = {}\n",
    "    contenidocatalogos = os.listdir(f\"conjunto_de_datos_{archivo}_enif_{year}/catalogos\")\n",
    "    \n",
    "    for catalogo in contenidocatalogos:\n",
    "        catalogos[catalogo.replace(\".csv\",\"\")] = pd.read_csv(f\"conjunto_de_datos_{archivo}_enif_{year}/catalogos/{catalogo}\",  encoding=\"ISO-8859-1\")\n",
    "\n",
    "    conjuntos = {\"df\":df1, \"diccionario\":dfdict, \"catalogos\":catalogos}\n",
    "\n",
    "    return conjuntos\n",
    "    "
   ]
  },
  {
   "cell_type": "markdown",
   "metadata": {},
   "source": [
    "importando datos de tsdem"
   ]
  },
  {
   "cell_type": "code",
   "execution_count": 3,
   "metadata": {},
   "outputs": [],
   "source": [
    "# tsdem\n",
    "tsdem = leer_conjunto_principal(\"tsdem\", 2021)"
   ]
  },
  {
   "cell_type": "markdown",
   "metadata": {},
   "source": [
    "importando datos de tmodulo"
   ]
  },
  {
   "cell_type": "code",
   "execution_count": 4,
   "metadata": {},
   "outputs": [],
   "source": [
    "tmodulo = leer_conjunto_principal(\"tmodulo\", 2021)"
   ]
  },
  {
   "cell_type": "markdown",
   "metadata": {},
   "source": [
    "### 2.2 Limpieza de datos"
   ]
  },
  {
   "cell_type": "markdown",
   "metadata": {},
   "source": [
    "En tsdem y tmodulo:\n",
    "Columna Edad en tmodulo y tsdem"
   ]
  },
  {
   "cell_type": "code",
   "execution_count": 5,
   "metadata": {},
   "outputs": [
    {
     "data": {
      "text/html": [
       "<div>\n",
       "<style scoped>\n",
       "    .dataframe tbody tr th:only-of-type {\n",
       "        vertical-align: middle;\n",
       "    }\n",
       "\n",
       "    .dataframe tbody tr th {\n",
       "        vertical-align: top;\n",
       "    }\n",
       "\n",
       "    .dataframe thead th {\n",
       "        text-align: right;\n",
       "    }\n",
       "</style>\n",
       "<table border=\"1\" class=\"dataframe\">\n",
       "  <thead>\n",
       "    <tr style=\"text-align: right;\">\n",
       "      <th></th>\n",
       "      <th>cve</th>\n",
       "      <th>descrip</th>\n",
       "    </tr>\n",
       "  </thead>\n",
       "  <tbody>\n",
       "    <tr>\n",
       "      <th>0</th>\n",
       "      <td>0</td>\n",
       "      <td>Menos de un año</td>\n",
       "    </tr>\n",
       "    <tr>\n",
       "      <th>1</th>\n",
       "      <td>0196</td>\n",
       "      <td>Años cumplidos</td>\n",
       "    </tr>\n",
       "    <tr>\n",
       "      <th>2</th>\n",
       "      <td>97</td>\n",
       "      <td>97 años y más</td>\n",
       "    </tr>\n",
       "    <tr>\n",
       "      <th>3</th>\n",
       "      <td>98</td>\n",
       "      <td>Edad no especificada en personas de 18 años y más</td>\n",
       "    </tr>\n",
       "    <tr>\n",
       "      <th>4</th>\n",
       "      <td>99</td>\n",
       "      <td>Otra edad no especificada</td>\n",
       "    </tr>\n",
       "  </tbody>\n",
       "</table>\n",
       "</div>"
      ],
      "text/plain": [
       "     cve                                            descrip\n",
       "0      0                                    Menos de un año\n",
       "1  01\n",
       "96                                     Años cumplidos\n",
       "2     97                                      97 años y más\n",
       "3     98  Edad no especificada en personas de 18 años y más\n",
       "4     99                          Otra edad no especificada"
      ]
     },
     "execution_count": 5,
     "metadata": {},
     "output_type": "execute_result"
    }
   ],
   "source": [
    "tsdem[\"catalogos\"][\"edad\"]"
   ]
  },
  {
   "cell_type": "code",
   "execution_count": 6,
   "metadata": {},
   "outputs": [
    {
     "data": {
      "text/html": [
       "<div>\n",
       "<style scoped>\n",
       "    .dataframe tbody tr th:only-of-type {\n",
       "        vertical-align: middle;\n",
       "    }\n",
       "\n",
       "    .dataframe tbody tr th {\n",
       "        vertical-align: top;\n",
       "    }\n",
       "\n",
       "    .dataframe thead th {\n",
       "        text-align: right;\n",
       "    }\n",
       "</style>\n",
       "<table border=\"1\" class=\"dataframe\">\n",
       "  <thead>\n",
       "    <tr style=\"text-align: right;\">\n",
       "      <th></th>\n",
       "      <th>cve</th>\n",
       "      <th>descrip</th>\n",
       "    </tr>\n",
       "  </thead>\n",
       "  <tbody>\n",
       "    <tr>\n",
       "      <th>0</th>\n",
       "      <td>0</td>\n",
       "      <td>Menos de un año</td>\n",
       "    </tr>\n",
       "    <tr>\n",
       "      <th>1</th>\n",
       "      <td>01...96</td>\n",
       "      <td>Años cumplidos</td>\n",
       "    </tr>\n",
       "    <tr>\n",
       "      <th>2</th>\n",
       "      <td>97</td>\n",
       "      <td>97 años y más</td>\n",
       "    </tr>\n",
       "    <tr>\n",
       "      <th>3</th>\n",
       "      <td>98</td>\n",
       "      <td>Edad no especificada en personas de 18 años y más</td>\n",
       "    </tr>\n",
       "    <tr>\n",
       "      <th>4</th>\n",
       "      <td>99</td>\n",
       "      <td>Otra edad no especificada</td>\n",
       "    </tr>\n",
       "  </tbody>\n",
       "</table>\n",
       "</div>"
      ],
      "text/plain": [
       "       cve                                            descrip\n",
       "0        0                                    Menos de un año\n",
       "1  01...96                                     Años cumplidos\n",
       "2       97                                      97 años y más\n",
       "3       98  Edad no especificada en personas de 18 años y más\n",
       "4       99                          Otra edad no especificada"
      ]
     },
     "execution_count": 6,
     "metadata": {},
     "output_type": "execute_result"
    }
   ],
   "source": [
    "tmodulo[\"catalogos\"][\"edad\"]"
   ]
  },
  {
   "cell_type": "markdown",
   "metadata": {},
   "source": [
    "En ambos, se observa que la columna años cumplidos es un rango, mismo que no tiene sentido, ya que esos años cumplidos corresponden justo al valor de la columna cve"
   ]
  },
  {
   "cell_type": "code",
   "execution_count": 7,
   "metadata": {},
   "outputs": [],
   "source": [
    "#Eliminando la fila 1 del dataset edad, del subdirectorio catalogos del directorio tsdem\n",
    "tsdem[\"catalogos\"][\"edad\"] = tsdem[\"catalogos\"][\"edad\"].drop(1, axis=0)\n"
   ]
  },
  {
   "cell_type": "code",
   "execution_count": 8,
   "metadata": {},
   "outputs": [],
   "source": [
    "#Eliminando la fila 1 del dataset edad, del subdirectorio catalogos del directorio tmodulo\n",
    "tmodulo[\"catalogos\"][\"edad\"] = tmodulo[\"catalogos\"][\"edad\"].drop(1, axis=0)"
   ]
  },
  {
   "cell_type": "markdown",
   "metadata": {},
   "source": [
    "En tmodulo ...."
   ]
  },
  {
   "cell_type": "markdown",
   "metadata": {},
   "source": [
    "Analizando el p12_4"
   ]
  },
  {
   "cell_type": "code",
   "execution_count": 9,
   "metadata": {},
   "outputs": [
    {
     "data": {
      "text/html": [
       "<div>\n",
       "<style scoped>\n",
       "    .dataframe tbody tr th:only-of-type {\n",
       "        vertical-align: middle;\n",
       "    }\n",
       "\n",
       "    .dataframe tbody tr th {\n",
       "        vertical-align: top;\n",
       "    }\n",
       "\n",
       "    .dataframe thead th {\n",
       "        text-align: right;\n",
       "    }\n",
       "</style>\n",
       "<table border=\"1\" class=\"dataframe\">\n",
       "  <thead>\n",
       "    <tr style=\"text-align: right;\">\n",
       "      <th></th>\n",
       "      <th>nombre_campo</th>\n",
       "      <th>longitud</th>\n",
       "      <th>tipo</th>\n",
       "      <th>nemónico</th>\n",
       "      <th>catálogo</th>\n",
       "      <th>rango_claves</th>\n",
       "      <th>Unnamed: 6</th>\n",
       "      <th>Unnamed: 7</th>\n",
       "      <th>Unnamed: 8</th>\n",
       "    </tr>\n",
       "  </thead>\n",
       "  <tbody>\n",
       "    <tr>\n",
       "      <th>359</th>\n",
       "      <td>Pregunta P12.4 ¿Cuántos meses le tomó reponers...</td>\n",
       "      <td>2</td>\n",
       "      <td>C</td>\n",
       "      <td>p12_4</td>\n",
       "      <td>p12_4</td>\n",
       "      <td>01...88</td>\n",
       "      <td>NaN</td>\n",
       "      <td>NaN</td>\n",
       "      <td>NaN</td>\n",
       "    </tr>\n",
       "  </tbody>\n",
       "</table>\n",
       "</div>"
      ],
      "text/plain": [
       "                                          nombre_campo  longitud tipo  \\\n",
       "359  Pregunta P12.4 ¿Cuántos meses le tomó reponers...         2    C   \n",
       "\n",
       "    nemónico catálogo rango_claves  Unnamed: 6  Unnamed: 7  Unnamed: 8  \n",
       "359    p12_4    p12_4      01...88         NaN         NaN         NaN  "
      ]
     },
     "execution_count": 9,
     "metadata": {},
     "output_type": "execute_result"
    }
   ],
   "source": [
    "tmodulo[\"diccionario\"][tmodulo[\"diccionario\"][\"nemónico\"] == \"p12_4\"]"
   ]
  },
  {
   "cell_type": "code",
   "execution_count": 10,
   "metadata": {},
   "outputs": [
    {
     "data": {
      "text/html": [
       "<div>\n",
       "<style scoped>\n",
       "    .dataframe tbody tr th:only-of-type {\n",
       "        vertical-align: middle;\n",
       "    }\n",
       "\n",
       "    .dataframe tbody tr th {\n",
       "        vertical-align: top;\n",
       "    }\n",
       "\n",
       "    .dataframe thead th {\n",
       "        text-align: right;\n",
       "    }\n",
       "</style>\n",
       "<table border=\"1\" class=\"dataframe\">\n",
       "  <thead>\n",
       "    <tr style=\"text-align: right;\">\n",
       "      <th></th>\n",
       "      <th>cve</th>\n",
       "      <th>descrip</th>\n",
       "    </tr>\n",
       "  </thead>\n",
       "  <tbody>\n",
       "    <tr>\n",
       "      <th>0</th>\n",
       "      <td>01...87</td>\n",
       "      <td>Meses</td>\n",
       "    </tr>\n",
       "    <tr>\n",
       "      <th>1</th>\n",
       "      <td>88</td>\n",
       "      <td>Todavía no se recupera o sigue endeudada(o)</td>\n",
       "    </tr>\n",
       "  </tbody>\n",
       "</table>\n",
       "</div>"
      ],
      "text/plain": [
       "       cve                                      descrip\n",
       "0  01...87                                        Meses\n",
       "1       88  Todavía no se recupera o sigue endeudada(o)"
      ]
     },
     "execution_count": 10,
     "metadata": {},
     "output_type": "execute_result"
    }
   ],
   "source": [
    "tmodulo[\"catalogos\"][\"p12_4\"]"
   ]
  },
  {
   "cell_type": "markdown",
   "metadata": {},
   "source": [
    "Se observa la misma situacion en el registro 0, hay un rango ilegible de meses, que ademas, el valor actual corresponde al mismo valor en meses, por lo que no es necesario indexarse. "
   ]
  },
  {
   "cell_type": "code",
   "execution_count": 11,
   "metadata": {},
   "outputs": [],
   "source": [
    "#eliminando el registro Meses\n",
    "tmodulo[\"catalogos\"][\"p12_4\"] = tmodulo[\"catalogos\"][\"p12_4\"].drop(0, axis=0)"
   ]
  },
  {
   "cell_type": "markdown",
   "metadata": {},
   "source": [
    "Analizando el p3_8a "
   ]
  },
  {
   "cell_type": "code",
   "execution_count": 12,
   "metadata": {},
   "outputs": [
    {
     "data": {
      "text/plain": [
       "12    Pregunta P3.8A ¿Cuánto gana o recibe usted por...\n",
       "Name: nombre_campo, dtype: object"
      ]
     },
     "execution_count": 12,
     "metadata": {},
     "output_type": "execute_result"
    }
   ],
   "source": [
    "tmodulo[\"diccionario\"][tmodulo[\"diccionario\"][\"nemónico\"] == \"p3_8a\"][\"nombre_campo\"]"
   ]
  },
  {
   "cell_type": "code",
   "execution_count": 13,
   "metadata": {},
   "outputs": [
    {
     "data": {
      "text/html": [
       "<div>\n",
       "<style scoped>\n",
       "    .dataframe tbody tr th:only-of-type {\n",
       "        vertical-align: middle;\n",
       "    }\n",
       "\n",
       "    .dataframe tbody tr th {\n",
       "        vertical-align: top;\n",
       "    }\n",
       "\n",
       "    .dataframe thead th {\n",
       "        text-align: right;\n",
       "    }\n",
       "</style>\n",
       "<table border=\"1\" class=\"dataframe\">\n",
       "  <thead>\n",
       "    <tr style=\"text-align: right;\">\n",
       "      <th></th>\n",
       "      <th>cve</th>\n",
       "      <th>descrip</th>\n",
       "    </tr>\n",
       "  </thead>\n",
       "  <tbody>\n",
       "    <tr>\n",
       "      <th>0</th>\n",
       "      <td>0</td>\n",
       "      <td>No recibe ingresos</td>\n",
       "    </tr>\n",
       "    <tr>\n",
       "      <th>1</th>\n",
       "      <td>00001...97999</td>\n",
       "      <td>Ingresos</td>\n",
       "    </tr>\n",
       "    <tr>\n",
       "      <th>2</th>\n",
       "      <td>98000</td>\n",
       "      <td>$98 000 y más</td>\n",
       "    </tr>\n",
       "    <tr>\n",
       "      <th>3</th>\n",
       "      <td>99888</td>\n",
       "      <td>No responde</td>\n",
       "    </tr>\n",
       "  </tbody>\n",
       "</table>\n",
       "</div>"
      ],
      "text/plain": [
       "             cve             descrip\n",
       "0              0  No recibe ingresos\n",
       "1  00001...97999            Ingresos\n",
       "2          98000       $98 000 y más\n",
       "3          99888         No responde"
      ]
     },
     "execution_count": 13,
     "metadata": {},
     "output_type": "execute_result"
    }
   ],
   "source": [
    "tmodulo[\"catalogos\"][\"p3_8a\"]"
   ]
  },
  {
   "cell_type": "markdown",
   "metadata": {},
   "source": [
    "Se observa la misma situacion, en este caso con los ingresos. Siendo el numero dado un numero actual, real.\n"
   ]
  },
  {
   "cell_type": "code",
   "execution_count": 14,
   "metadata": {},
   "outputs": [],
   "source": [
    "tmodulo[\"catalogos\"][\"p3_8a\"] = tmodulo[\"catalogos\"][\"p3_8a\"].drop(1, axis=0)"
   ]
  },
  {
   "cell_type": "markdown",
   "metadata": {},
   "source": [
    "Removiendo p10_9_2"
   ]
  },
  {
   "cell_type": "code",
   "execution_count": 15,
   "metadata": {},
   "outputs": [
    {
     "data": {
      "text/html": [
       "<div>\n",
       "<style scoped>\n",
       "    .dataframe tbody tr th:only-of-type {\n",
       "        vertical-align: middle;\n",
       "    }\n",
       "\n",
       "    .dataframe tbody tr th {\n",
       "        vertical-align: top;\n",
       "    }\n",
       "\n",
       "    .dataframe thead th {\n",
       "        text-align: right;\n",
       "    }\n",
       "</style>\n",
       "<table border=\"1\" class=\"dataframe\">\n",
       "  <thead>\n",
       "    <tr style=\"text-align: right;\">\n",
       "      <th></th>\n",
       "      <th>cve</th>\n",
       "      <th>descrip</th>\n",
       "    </tr>\n",
       "  </thead>\n",
       "  <tbody>\n",
       "    <tr>\n",
       "      <th>0</th>\n",
       "      <td>00...59</td>\n",
       "      <td>Minutos</td>\n",
       "    </tr>\n",
       "    <tr>\n",
       "      <th>1</th>\n",
       "      <td>99</td>\n",
       "      <td>No sabe</td>\n",
       "    </tr>\n",
       "  </tbody>\n",
       "</table>\n",
       "</div>"
      ],
      "text/plain": [
       "       cve  descrip\n",
       "0  00...59  Minutos\n",
       "1       99  No sabe"
      ]
     },
     "execution_count": 15,
     "metadata": {},
     "output_type": "execute_result"
    }
   ],
   "source": [
    "tmodulo[\"catalogos\"][\"p10_9_2\"]"
   ]
  },
  {
   "cell_type": "code",
   "execution_count": 16,
   "metadata": {},
   "outputs": [],
   "source": [
    "tmodulo[\"catalogos\"][\"p10_9_2\"] = tmodulo[\"catalogos\"][\"p10_9_2\"].drop(0, axis=0)"
   ]
  },
  {
   "cell_type": "markdown",
   "metadata": {},
   "source": [
    "Removiendo p5_12"
   ]
  },
  {
   "cell_type": "code",
   "execution_count": 17,
   "metadata": {},
   "outputs": [
    {
     "data": {
      "text/html": [
       "<div>\n",
       "<style scoped>\n",
       "    .dataframe tbody tr th:only-of-type {\n",
       "        vertical-align: middle;\n",
       "    }\n",
       "\n",
       "    .dataframe tbody tr th {\n",
       "        vertical-align: top;\n",
       "    }\n",
       "\n",
       "    .dataframe thead th {\n",
       "        text-align: right;\n",
       "    }\n",
       "</style>\n",
       "<table border=\"1\" class=\"dataframe\">\n",
       "  <thead>\n",
       "    <tr style=\"text-align: right;\">\n",
       "      <th></th>\n",
       "      <th>cve</th>\n",
       "      <th>descrip</th>\n",
       "    </tr>\n",
       "  </thead>\n",
       "  <tbody>\n",
       "    <tr>\n",
       "      <th>0</th>\n",
       "      <td>0</td>\n",
       "      <td>No la utiliza</td>\n",
       "    </tr>\n",
       "    <tr>\n",
       "      <th>1</th>\n",
       "      <td>01...87</td>\n",
       "      <td>Número de veces</td>\n",
       "    </tr>\n",
       "    <tr>\n",
       "      <th>2</th>\n",
       "      <td>88</td>\n",
       "      <td>Menos de una vez al mes</td>\n",
       "    </tr>\n",
       "  </tbody>\n",
       "</table>\n",
       "</div>"
      ],
      "text/plain": [
       "       cve                  descrip\n",
       "0        0            No la utiliza\n",
       "1  01...87          Número de veces\n",
       "2       88  Menos de una vez al mes"
      ]
     },
     "execution_count": 17,
     "metadata": {},
     "output_type": "execute_result"
    }
   ],
   "source": [
    "tmodulo[\"catalogos\"][\"p5_12\"]"
   ]
  },
  {
   "cell_type": "code",
   "execution_count": 18,
   "metadata": {},
   "outputs": [],
   "source": [
    "tmodulo[\"catalogos\"][\"p10_9_2\"] = tmodulo[\"catalogos\"][\"p10_9_2\"].drop(1, axis=0)"
   ]
  },
  {
   "cell_type": "markdown",
   "metadata": {},
   "source": [
    "Con el valor p10_6_1"
   ]
  },
  {
   "cell_type": "code",
   "execution_count": 19,
   "metadata": {},
   "outputs": [
    {
     "data": {
      "text/html": [
       "<div>\n",
       "<style scoped>\n",
       "    .dataframe tbody tr th:only-of-type {\n",
       "        vertical-align: middle;\n",
       "    }\n",
       "\n",
       "    .dataframe tbody tr th {\n",
       "        vertical-align: top;\n",
       "    }\n",
       "\n",
       "    .dataframe thead th {\n",
       "        text-align: right;\n",
       "    }\n",
       "</style>\n",
       "<table border=\"1\" class=\"dataframe\">\n",
       "  <thead>\n",
       "    <tr style=\"text-align: right;\">\n",
       "      <th></th>\n",
       "      <th>cve</th>\n",
       "      <th>descrip</th>\n",
       "    </tr>\n",
       "  </thead>\n",
       "  <tbody>\n",
       "    <tr>\n",
       "      <th>0</th>\n",
       "      <td>00...23</td>\n",
       "      <td>Horas</td>\n",
       "    </tr>\n",
       "    <tr>\n",
       "      <th>1</th>\n",
       "      <td>99</td>\n",
       "      <td>No sabe</td>\n",
       "    </tr>\n",
       "  </tbody>\n",
       "</table>\n",
       "</div>"
      ],
      "text/plain": [
       "       cve  descrip\n",
       "0  00...23    Horas\n",
       "1       99  No sabe"
      ]
     },
     "execution_count": 19,
     "metadata": {},
     "output_type": "execute_result"
    }
   ],
   "source": [
    "tmodulo[\"catalogos\"][\"p10_6_1\"]"
   ]
  },
  {
   "cell_type": "code",
   "execution_count": 20,
   "metadata": {},
   "outputs": [],
   "source": [
    "tmodulo[\"catalogos\"][\"p10_6_1\"] = tmodulo[\"catalogos\"][\"p10_6_1\"].drop(0, axis=0)"
   ]
  },
  {
   "cell_type": "markdown",
   "metadata": {},
   "source": [
    "Con el valor p10_9_1"
   ]
  },
  {
   "cell_type": "code",
   "execution_count": 21,
   "metadata": {},
   "outputs": [
    {
     "data": {
      "text/html": [
       "<div>\n",
       "<style scoped>\n",
       "    .dataframe tbody tr th:only-of-type {\n",
       "        vertical-align: middle;\n",
       "    }\n",
       "\n",
       "    .dataframe tbody tr th {\n",
       "        vertical-align: top;\n",
       "    }\n",
       "\n",
       "    .dataframe thead th {\n",
       "        text-align: right;\n",
       "    }\n",
       "</style>\n",
       "<table border=\"1\" class=\"dataframe\">\n",
       "  <thead>\n",
       "    <tr style=\"text-align: right;\">\n",
       "      <th></th>\n",
       "      <th>cve</th>\n",
       "      <th>descrip</th>\n",
       "    </tr>\n",
       "  </thead>\n",
       "  <tbody>\n",
       "    <tr>\n",
       "      <th>0</th>\n",
       "      <td>00...23</td>\n",
       "      <td>Horas</td>\n",
       "    </tr>\n",
       "    <tr>\n",
       "      <th>1</th>\n",
       "      <td>99</td>\n",
       "      <td>No sabe</td>\n",
       "    </tr>\n",
       "  </tbody>\n",
       "</table>\n",
       "</div>"
      ],
      "text/plain": [
       "       cve  descrip\n",
       "0  00...23    Horas\n",
       "1       99  No sabe"
      ]
     },
     "execution_count": 21,
     "metadata": {},
     "output_type": "execute_result"
    }
   ],
   "source": [
    "tmodulo[\"catalogos\"][\"p10_9_1\"]"
   ]
  },
  {
   "cell_type": "code",
   "execution_count": 22,
   "metadata": {},
   "outputs": [],
   "source": [
    "tmodulo[\"catalogos\"][\"p10_9_1\"] = tmodulo[\"catalogos\"][\"p10_9_1\"].drop(0, axis=0)"
   ]
  },
  {
   "cell_type": "markdown",
   "metadata": {},
   "source": [
    "Con el valor p10_3_1"
   ]
  },
  {
   "cell_type": "code",
   "execution_count": 23,
   "metadata": {},
   "outputs": [
    {
     "data": {
      "text/html": [
       "<div>\n",
       "<style scoped>\n",
       "    .dataframe tbody tr th:only-of-type {\n",
       "        vertical-align: middle;\n",
       "    }\n",
       "\n",
       "    .dataframe tbody tr th {\n",
       "        vertical-align: top;\n",
       "    }\n",
       "\n",
       "    .dataframe thead th {\n",
       "        text-align: right;\n",
       "    }\n",
       "</style>\n",
       "<table border=\"1\" class=\"dataframe\">\n",
       "  <thead>\n",
       "    <tr style=\"text-align: right;\">\n",
       "      <th></th>\n",
       "      <th>cve</th>\n",
       "      <th>descrip</th>\n",
       "    </tr>\n",
       "  </thead>\n",
       "  <tbody>\n",
       "    <tr>\n",
       "      <th>0</th>\n",
       "      <td>00...23</td>\n",
       "      <td>Horas</td>\n",
       "    </tr>\n",
       "    <tr>\n",
       "      <th>1</th>\n",
       "      <td>99</td>\n",
       "      <td>No sabe</td>\n",
       "    </tr>\n",
       "  </tbody>\n",
       "</table>\n",
       "</div>"
      ],
      "text/plain": [
       "       cve  descrip\n",
       "0  00...23    Horas\n",
       "1       99  No sabe"
      ]
     },
     "execution_count": 23,
     "metadata": {},
     "output_type": "execute_result"
    }
   ],
   "source": [
    "tmodulo[\"catalogos\"][\"p10_3_1\"]"
   ]
  },
  {
   "cell_type": "code",
   "execution_count": 24,
   "metadata": {},
   "outputs": [],
   "source": [
    "tmodulo[\"catalogos\"][\"p10_3_1\"] = tmodulo[\"catalogos\"][\"p10_3_1\"].drop(0, axis=0)"
   ]
  },
  {
   "cell_type": "markdown",
   "metadata": {},
   "source": [
    "p10_6_2"
   ]
  },
  {
   "cell_type": "code",
   "execution_count": 25,
   "metadata": {},
   "outputs": [
    {
     "data": {
      "text/html": [
       "<div>\n",
       "<style scoped>\n",
       "    .dataframe tbody tr th:only-of-type {\n",
       "        vertical-align: middle;\n",
       "    }\n",
       "\n",
       "    .dataframe tbody tr th {\n",
       "        vertical-align: top;\n",
       "    }\n",
       "\n",
       "    .dataframe thead th {\n",
       "        text-align: right;\n",
       "    }\n",
       "</style>\n",
       "<table border=\"1\" class=\"dataframe\">\n",
       "  <thead>\n",
       "    <tr style=\"text-align: right;\">\n",
       "      <th></th>\n",
       "      <th>cve</th>\n",
       "      <th>descrip</th>\n",
       "    </tr>\n",
       "  </thead>\n",
       "  <tbody>\n",
       "    <tr>\n",
       "      <th>0</th>\n",
       "      <td>00...59</td>\n",
       "      <td>Minutos</td>\n",
       "    </tr>\n",
       "    <tr>\n",
       "      <th>1</th>\n",
       "      <td>99</td>\n",
       "      <td>No sabe</td>\n",
       "    </tr>\n",
       "  </tbody>\n",
       "</table>\n",
       "</div>"
      ],
      "text/plain": [
       "       cve  descrip\n",
       "0  00...59  Minutos\n",
       "1       99  No sabe"
      ]
     },
     "execution_count": 25,
     "metadata": {},
     "output_type": "execute_result"
    }
   ],
   "source": [
    "tmodulo[\"catalogos\"][\"p10_6_2\"]"
   ]
  },
  {
   "cell_type": "code",
   "execution_count": 26,
   "metadata": {},
   "outputs": [],
   "source": [
    "tmodulo[\"catalogos\"][\"p10_6_2\"] = tmodulo[\"catalogos\"][\"p10_6_2\"].drop(0, axis=0)"
   ]
  },
  {
   "cell_type": "markdown",
   "metadata": {},
   "source": [
    "p6_9"
   ]
  },
  {
   "cell_type": "code",
   "execution_count": 27,
   "metadata": {},
   "outputs": [
    {
     "data": {
      "text/html": [
       "<div>\n",
       "<style scoped>\n",
       "    .dataframe tbody tr th:only-of-type {\n",
       "        vertical-align: middle;\n",
       "    }\n",
       "\n",
       "    .dataframe tbody tr th {\n",
       "        vertical-align: top;\n",
       "    }\n",
       "\n",
       "    .dataframe thead th {\n",
       "        text-align: right;\n",
       "    }\n",
       "</style>\n",
       "<table border=\"1\" class=\"dataframe\">\n",
       "  <thead>\n",
       "    <tr style=\"text-align: right;\">\n",
       "      <th></th>\n",
       "      <th>cve</th>\n",
       "      <th>descrip</th>\n",
       "    </tr>\n",
       "  </thead>\n",
       "  <tbody>\n",
       "    <tr>\n",
       "      <th>0</th>\n",
       "      <td>0</td>\n",
       "      <td>No la utiliza</td>\n",
       "    </tr>\n",
       "    <tr>\n",
       "      <th>1</th>\n",
       "      <td>01...87</td>\n",
       "      <td>Número de veces</td>\n",
       "    </tr>\n",
       "    <tr>\n",
       "      <th>2</th>\n",
       "      <td>88</td>\n",
       "      <td>Menos de una vez al mes</td>\n",
       "    </tr>\n",
       "  </tbody>\n",
       "</table>\n",
       "</div>"
      ],
      "text/plain": [
       "       cve                  descrip\n",
       "0        0            No la utiliza\n",
       "1  01...87          Número de veces\n",
       "2       88  Menos de una vez al mes"
      ]
     },
     "execution_count": 27,
     "metadata": {},
     "output_type": "execute_result"
    }
   ],
   "source": [
    "tmodulo[\"catalogos\"][\"p6_9\"]"
   ]
  },
  {
   "cell_type": "code",
   "execution_count": 28,
   "metadata": {},
   "outputs": [],
   "source": [
    "tmodulo[\"catalogos\"][\"p6_9\"] = tmodulo[\"catalogos\"][\"p6_9\"].drop(1, axis=0)"
   ]
  },
  {
   "cell_type": "markdown",
   "metadata": {},
   "source": [
    "p10_3_2"
   ]
  },
  {
   "cell_type": "code",
   "execution_count": 29,
   "metadata": {},
   "outputs": [
    {
     "data": {
      "text/html": [
       "<div>\n",
       "<style scoped>\n",
       "    .dataframe tbody tr th:only-of-type {\n",
       "        vertical-align: middle;\n",
       "    }\n",
       "\n",
       "    .dataframe tbody tr th {\n",
       "        vertical-align: top;\n",
       "    }\n",
       "\n",
       "    .dataframe thead th {\n",
       "        text-align: right;\n",
       "    }\n",
       "</style>\n",
       "<table border=\"1\" class=\"dataframe\">\n",
       "  <thead>\n",
       "    <tr style=\"text-align: right;\">\n",
       "      <th></th>\n",
       "      <th>cve</th>\n",
       "      <th>descrip</th>\n",
       "    </tr>\n",
       "  </thead>\n",
       "  <tbody>\n",
       "    <tr>\n",
       "      <th>0</th>\n",
       "      <td>00...59</td>\n",
       "      <td>Minutos</td>\n",
       "    </tr>\n",
       "    <tr>\n",
       "      <th>1</th>\n",
       "      <td>99</td>\n",
       "      <td>No sabe</td>\n",
       "    </tr>\n",
       "  </tbody>\n",
       "</table>\n",
       "</div>"
      ],
      "text/plain": [
       "       cve  descrip\n",
       "0  00...59  Minutos\n",
       "1       99  No sabe"
      ]
     },
     "execution_count": 29,
     "metadata": {},
     "output_type": "execute_result"
    }
   ],
   "source": [
    "tmodulo[\"catalogos\"][\"p10_3_2\"]"
   ]
  },
  {
   "cell_type": "code",
   "execution_count": 30,
   "metadata": {},
   "outputs": [],
   "source": [
    "tmodulo[\"catalogos\"][\"p10_3_2\"] = tmodulo[\"catalogos\"][\"p10_3_2\"].drop(0, axis=0)"
   ]
  },
  {
   "cell_type": "markdown",
   "metadata": {},
   "source": [
    "Reemplazando valores numericos por categoricos ... TSDEM"
   ]
  },
  {
   "cell_type": "code",
   "execution_count": 31,
   "metadata": {},
   "outputs": [
    {
     "name": "stdout",
     "output_type": "stream",
     "text": [
      "<class 'pandas.core.frame.DataFrame'>\n",
      "RangeIndex: 47045 entries, 0 to 47044\n",
      "Data columns (total 14 columns):\n",
      " #   Column   Non-Null Count  Dtype  \n",
      "---  ------   --------------  -----  \n",
      " 0   FOLIO    47045 non-null  int64  \n",
      " 1   VIV_SEL  47045 non-null  int64  \n",
      " 2   HOGAR    47045 non-null  int64  \n",
      " 3   N_REN    47045 non-null  int64  \n",
      " 4   P2_3     47045 non-null  int64  \n",
      " 5   SEXO     47045 non-null  int64  \n",
      " 6   EDAD     47045 non-null  int64  \n",
      " 7   NIV      13561 non-null  float64\n",
      " 8   GRA      13561 non-null  float64\n",
      " 9   TLOC     47045 non-null  int64  \n",
      " 10  REGION   47045 non-null  int64  \n",
      " 11  EST_DIS  47045 non-null  int64  \n",
      " 12  UPM_DIS  47045 non-null  int64  \n",
      " 13  FAC_HOG  47045 non-null  int64  \n",
      "dtypes: float64(2), int64(12)\n",
      "memory usage: 5.0 MB\n"
     ]
    }
   ],
   "source": [
    "tsdem[\"df\"].info()"
   ]
  },
  {
   "cell_type": "markdown",
   "metadata": {},
   "source": [
    "Analizando cada valor"
   ]
  },
  {
   "cell_type": "code",
   "execution_count": 32,
   "metadata": {},
   "outputs": [
    {
     "data": {
      "text/html": [
       "<div>\n",
       "<style scoped>\n",
       "    .dataframe tbody tr th:only-of-type {\n",
       "        vertical-align: middle;\n",
       "    }\n",
       "\n",
       "    .dataframe tbody tr th {\n",
       "        vertical-align: top;\n",
       "    }\n",
       "\n",
       "    .dataframe thead th {\n",
       "        text-align: right;\n",
       "    }\n",
       "</style>\n",
       "<table border=\"1\" class=\"dataframe\">\n",
       "  <thead>\n",
       "    <tr style=\"text-align: right;\">\n",
       "      <th></th>\n",
       "      <th>nombre_campo</th>\n",
       "      <th>longitud</th>\n",
       "      <th>tipo</th>\n",
       "      <th>nemónico</th>\n",
       "      <th>catálogo</th>\n",
       "      <th>rango_claves</th>\n",
       "    </tr>\n",
       "  </thead>\n",
       "  <tbody>\n",
       "    <tr>\n",
       "      <th>0</th>\n",
       "      <td>Número de folio</td>\n",
       "      <td>5</td>\n",
       "      <td>C</td>\n",
       "      <td>folio</td>\n",
       "      <td>NaN</td>\n",
       "      <td>00001...13352</td>\n",
       "    </tr>\n",
       "    <tr>\n",
       "      <th>1</th>\n",
       "      <td>Número de vivienda seleccionada</td>\n",
       "      <td>2</td>\n",
       "      <td>C</td>\n",
       "      <td>viv_sel</td>\n",
       "      <td>NaN</td>\n",
       "      <td>01...25</td>\n",
       "    </tr>\n",
       "    <tr>\n",
       "      <th>2</th>\n",
       "      <td>Número de hogar en la vivienda</td>\n",
       "      <td>1</td>\n",
       "      <td>C</td>\n",
       "      <td>hogar</td>\n",
       "      <td>NaN</td>\n",
       "      <td>1...5</td>\n",
       "    </tr>\n",
       "    <tr>\n",
       "      <th>3</th>\n",
       "      <td>Número de renglón</td>\n",
       "      <td>2</td>\n",
       "      <td>C</td>\n",
       "      <td>n_ren</td>\n",
       "      <td>NaN</td>\n",
       "      <td>01...30</td>\n",
       "    </tr>\n",
       "    <tr>\n",
       "      <th>4</th>\n",
       "      <td>Pregunta P2.3 ¿Qué es (NOMBRE) de la (del) jef...</td>\n",
       "      <td>1</td>\n",
       "      <td>C</td>\n",
       "      <td>p2_3</td>\n",
       "      <td>p2_3</td>\n",
       "      <td>1...6</td>\n",
       "    </tr>\n",
       "    <tr>\n",
       "      <th>5</th>\n",
       "      <td>Pregunta SEXO (NOMBRE) es hombre (NOMBRE) es m...</td>\n",
       "      <td>1</td>\n",
       "      <td>C</td>\n",
       "      <td>sexo</td>\n",
       "      <td>sexo</td>\n",
       "      <td>1,2</td>\n",
       "    </tr>\n",
       "    <tr>\n",
       "      <th>6</th>\n",
       "      <td>Pregunta EDAD ¿Cuántos años cumplidos tiene (N...</td>\n",
       "      <td>2</td>\n",
       "      <td>C</td>\n",
       "      <td>edad</td>\n",
       "      <td>edad</td>\n",
       "      <td>00...99</td>\n",
       "    </tr>\n",
       "    <tr>\n",
       "      <th>7</th>\n",
       "      <td>Pregunta NIV ¿Hasta qué año o grado aprobó (NO...</td>\n",
       "      <td>2</td>\n",
       "      <td>C</td>\n",
       "      <td>niv</td>\n",
       "      <td>niv</td>\n",
       "      <td>00...09,99</td>\n",
       "    </tr>\n",
       "    <tr>\n",
       "      <th>8</th>\n",
       "      <td>Pregunta GRA ¿Hasta qué año o grado aprobó (NO...</td>\n",
       "      <td>1</td>\n",
       "      <td>C</td>\n",
       "      <td>gra</td>\n",
       "      <td>NaN</td>\n",
       "      <td>0...9</td>\n",
       "    </tr>\n",
       "    <tr>\n",
       "      <th>9</th>\n",
       "      <td>Tamaño de localidad</td>\n",
       "      <td>1</td>\n",
       "      <td>C</td>\n",
       "      <td>tloc</td>\n",
       "      <td>tloc</td>\n",
       "      <td>1...4</td>\n",
       "    </tr>\n",
       "    <tr>\n",
       "      <th>10</th>\n",
       "      <td>Región</td>\n",
       "      <td>1</td>\n",
       "      <td>C</td>\n",
       "      <td>region</td>\n",
       "      <td>region</td>\n",
       "      <td>1...6</td>\n",
       "    </tr>\n",
       "    <tr>\n",
       "      <th>11</th>\n",
       "      <td>Estrato de diseño muestral</td>\n",
       "      <td>3</td>\n",
       "      <td>C</td>\n",
       "      <td>est_dis</td>\n",
       "      <td>NaN</td>\n",
       "      <td>001...235</td>\n",
       "    </tr>\n",
       "    <tr>\n",
       "      <th>12</th>\n",
       "      <td>UPM de diseño muestral</td>\n",
       "      <td>7</td>\n",
       "      <td>C</td>\n",
       "      <td>upm_dis</td>\n",
       "      <td>NaN</td>\n",
       "      <td>0000001...0002013</td>\n",
       "    </tr>\n",
       "    <tr>\n",
       "      <th>13</th>\n",
       "      <td>Factor de expansión</td>\n",
       "      <td>5</td>\n",
       "      <td>C</td>\n",
       "      <td>fac_hog</td>\n",
       "      <td>NaN</td>\n",
       "      <td>00000...99999</td>\n",
       "    </tr>\n",
       "  </tbody>\n",
       "</table>\n",
       "</div>"
      ],
      "text/plain": [
       "                                         nombre_campo  longitud tipo nemónico  \\\n",
       "0                                     Número de folio         5    C    folio   \n",
       "1                     Número de vivienda seleccionada         2    C  viv_sel   \n",
       "2                      Número de hogar en la vivienda         1    C    hogar   \n",
       "3                                   Número de renglón         2    C    n_ren   \n",
       "4   Pregunta P2.3 ¿Qué es (NOMBRE) de la (del) jef...         1    C     p2_3   \n",
       "5   Pregunta SEXO (NOMBRE) es hombre (NOMBRE) es m...         1    C     sexo   \n",
       "6   Pregunta EDAD ¿Cuántos años cumplidos tiene (N...         2    C     edad   \n",
       "7   Pregunta NIV ¿Hasta qué año o grado aprobó (NO...         2    C      niv   \n",
       "8   Pregunta GRA ¿Hasta qué año o grado aprobó (NO...         1    C      gra   \n",
       "9                                 Tamaño de localidad         1    C     tloc   \n",
       "10                                             Región         1    C   region   \n",
       "11                         Estrato de diseño muestral         3    C  est_dis   \n",
       "12                             UPM de diseño muestral         7    C  upm_dis   \n",
       "13                                Factor de expansión         5    C  fac_hog   \n",
       "\n",
       "   catálogo       rango_claves  \n",
       "0       NaN      00001...13352  \n",
       "1       NaN            01...25  \n",
       "2       NaN              1...5  \n",
       "3       NaN            01...30  \n",
       "4      p2_3              1...6  \n",
       "5      sexo                1,2  \n",
       "6      edad            00...99  \n",
       "7       niv         00...09,99  \n",
       "8       NaN              0...9  \n",
       "9      tloc              1...4  \n",
       "10   region              1...6  \n",
       "11      NaN          001...235  \n",
       "12      NaN  0000001...0002013  \n",
       "13      NaN      00000...99999  "
      ]
     },
     "execution_count": 32,
     "metadata": {},
     "output_type": "execute_result"
    }
   ],
   "source": [
    "tsdem[\"diccionario\"]"
   ]
  },
  {
   "cell_type": "markdown",
   "metadata": {},
   "source": [
    "Analizando el diccionario, se pueden observar varias variables del tipo categorico, haciendo una recopilacion de las mismas "
   ]
  },
  {
   "cell_type": "code",
   "execution_count": 71,
   "metadata": {},
   "outputs": [],
   "source": [
    "indexcat = tsdem[\"diccionario\"][\"catálogo\"][pd.notnull(tsdem[\"diccionario\"][\"catálogo\"])] \n",
    "categoricostsdem = [valor.upper() for valor in tsdem[\"diccionario\"][\"catálogo\"][pd.notnull(tsdem[\"diccionario\"][\"catálogo\"])] ]\n",
    "tsdem['df'][indexcat.str.upper()] = tsdem['df'][indexcat.str.upper()].astype('category')"
   ]
  },
  {
   "cell_type": "code",
   "execution_count": 72,
   "metadata": {},
   "outputs": [
    {
     "name": "stdout",
     "output_type": "stream",
     "text": [
      "<class 'pandas.core.frame.DataFrame'>\n",
      "RangeIndex: 47045 entries, 0 to 47044\n",
      "Data columns (total 14 columns):\n",
      " #   Column   Non-Null Count  Dtype   \n",
      "---  ------   --------------  -----   \n",
      " 0   FOLIO    47045 non-null  int64   \n",
      " 1   VIV_SEL  47045 non-null  int64   \n",
      " 2   HOGAR    47045 non-null  int64   \n",
      " 3   N_REN    47045 non-null  int64   \n",
      " 4   P2_3     47045 non-null  category\n",
      " 5   SEXO     47045 non-null  category\n",
      " 6   EDAD     47045 non-null  category\n",
      " 7   NIV      13561 non-null  category\n",
      " 8   GRA      13561 non-null  float64 \n",
      " 9   TLOC     47045 non-null  category\n",
      " 10  REGION   47045 non-null  category\n",
      " 11  EST_DIS  47045 non-null  int64   \n",
      " 12  UPM_DIS  47045 non-null  int64   \n",
      " 13  FAC_HOG  47045 non-null  int64   \n",
      "dtypes: category(6), float64(1), int64(7)\n",
      "memory usage: 3.1 MB\n"
     ]
    }
   ],
   "source": []
  },
  {
   "cell_type": "code",
   "execution_count": null,
   "metadata": {},
   "outputs": [],
   "source": []
  },
  {
   "cell_type": "markdown",
   "metadata": {},
   "source": []
  }
 ],
 "metadata": {
  "kernelspec": {
   "display_name": ".venv",
   "language": "python",
   "name": "python3"
  },
  "language_info": {
   "codemirror_mode": {
    "name": "ipython",
    "version": 3
   },
   "file_extension": ".py",
   "mimetype": "text/x-python",
   "name": "python",
   "nbconvert_exporter": "python",
   "pygments_lexer": "ipython3",
   "version": "3.11.4"
  },
  "orig_nbformat": 4
 },
 "nbformat": 4,
 "nbformat_minor": 2
}
