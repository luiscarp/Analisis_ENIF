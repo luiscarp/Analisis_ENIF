{
 "cells": [
  {
   "cell_type": "code",
   "execution_count": 1,
   "metadata": {},
   "outputs": [],
   "source": [
    "dict = {\"altura\":[1.8, 1.9, 1.7, 1.6, 1.8],\n",
    "        \"edad\":[29, 30, 28, 25, 26],\n",
    "        \"numero1\":[1,2,3,4,5],\n",
    "        \"numero2\":[6,7,8,9,10],\n",
    "        \"numero3\":[11,12,13,14,15],\n",
    "        \"peso\":[68, 80, 90, 67, 70]\n",
    "\n",
    "}"
   ]
  },
  {
   "cell_type": "code",
   "execution_count": 2,
   "metadata": {},
   "outputs": [],
   "source": [
    "import pandas as pd"
   ]
  },
  {
   "cell_type": "code",
   "execution_count": 3,
   "metadata": {},
   "outputs": [],
   "source": [
    "df = pd.DataFrame(dict)"
   ]
  },
  {
   "cell_type": "code",
   "execution_count": 4,
   "metadata": {},
   "outputs": [
    {
     "name": "stdout",
     "output_type": "stream",
     "text": [
      "<class 'pandas.core.frame.DataFrame'>\n",
      "RangeIndex: 5 entries, 0 to 4\n",
      "Data columns (total 6 columns):\n",
      " #   Column   Non-Null Count  Dtype  \n",
      "---  ------   --------------  -----  \n",
      " 0   altura   5 non-null      float64\n",
      " 1   edad     5 non-null      int64  \n",
      " 2   numero1  5 non-null      int64  \n",
      " 3   numero2  5 non-null      int64  \n",
      " 4   numero3  5 non-null      int64  \n",
      " 5   peso     5 non-null      int64  \n",
      "dtypes: float64(1), int64(5)\n",
      "memory usage: 372.0 bytes\n"
     ]
    }
   ],
   "source": [
    "df.info()"
   ]
  },
  {
   "cell_type": "code",
   "execution_count": 5,
   "metadata": {},
   "outputs": [],
   "source": [
    "numero1 = {\"cve\":[1, 2, 3, 4, 5],\n",
    "        \"descrip\":[\"uno\", \"dos\", \"tres\", \"cuatro\", \"cinco\"]\n",
    "}\n",
    "\n",
    "numero2 = {\"cve\":[6, 7, 8, 9, 10],\n",
    "        \"descrip\":[\"seis\", \"siete\", \"ocho\", \"nueve\", \"diez\"]\n",
    "}\n",
    "\n",
    "numero3 = {\"cve\":[11, 12, 13, 14, 15],\n",
    "        \"descrip\":[\"once\", \"doce\", \"trece\", \"catorce\", \"quince\"]\n",
    "}"
   ]
  },
  {
   "cell_type": "code",
   "execution_count": 6,
   "metadata": {},
   "outputs": [],
   "source": [
    "numero1 = pd.DataFrame(numero1)\n",
    "\n",
    "numero2 = pd.DataFrame(numero2)\n",
    "\n",
    "numero3 = pd.DataFrame(numero3)"
   ]
  },
  {
   "cell_type": "code",
   "execution_count": 7,
   "metadata": {},
   "outputs": [],
   "source": [
    "catalogos = {\n",
    "    \"numero1\":numero1,\n",
    "    \"numero2\":numero2,\n",
    "    \"numero3\":numero3\n",
    "}"
   ]
  },
  {
   "cell_type": "code",
   "execution_count": 8,
   "metadata": {},
   "outputs": [],
   "source": [
    "indices = [\"numero1\", \"numero2\", \"numero3\"]"
   ]
  },
  {
   "cell_type": "code",
   "execution_count": 9,
   "metadata": {},
   "outputs": [
    {
     "name": "stdout",
     "output_type": "stream",
     "text": [
      "   altura  edad  numero1  numero2  numero3  peso\n",
      "0     1.8    29        1        6       11    68\n",
      "   cve descrip\n",
      "0    1     uno\n",
      "   altura  edad numero1  numero2  numero3  peso\n",
      "1     1.9    30       2        7       12    80\n",
      "   cve descrip\n",
      "1    2     dos\n",
      "   altura  edad numero1  numero2  numero3  peso\n",
      "2     1.7    28       3        8       13    90\n",
      "   cve descrip\n",
      "2    3    tres\n",
      "   altura  edad numero1  numero2  numero3  peso\n",
      "3     1.6    25       4        9       14    67\n",
      "   cve descrip\n",
      "3    4  cuatro\n",
      "   altura  edad numero1  numero2  numero3  peso\n",
      "4     1.8    26       5       10       15    70\n",
      "   cve descrip\n",
      "4    5   cinco\n",
      "   altura  edad numero1  numero2  numero3  peso\n",
      "0     1.8    29     uno        6       11    68\n",
      "   cve descrip\n",
      "0    6    seis\n",
      "   altura  edad numero1 numero2  numero3  peso\n",
      "1     1.9    30     dos       7       12    80\n",
      "   cve descrip\n",
      "1    7   siete\n",
      "   altura  edad numero1 numero2  numero3  peso\n",
      "2     1.7    28    tres       8       13    90\n",
      "   cve descrip\n",
      "2    8    ocho\n",
      "   altura  edad numero1 numero2  numero3  peso\n",
      "3     1.6    25  cuatro       9       14    67\n",
      "   cve descrip\n",
      "3    9   nueve\n",
      "   altura  edad numero1 numero2  numero3  peso\n",
      "4     1.8    26   cinco      10       15    70\n",
      "   cve descrip\n",
      "4   10    diez\n",
      "   altura  edad numero1 numero2  numero3  peso\n",
      "0     1.8    29     uno    seis       11    68\n",
      "   cve descrip\n",
      "0   11    once\n",
      "   altura  edad numero1 numero2 numero3  peso\n",
      "1     1.9    30     dos   siete      12    80\n",
      "   cve descrip\n",
      "1   12    doce\n",
      "   altura  edad numero1 numero2 numero3  peso\n",
      "2     1.7    28    tres    ocho      13    90\n",
      "   cve descrip\n",
      "2   13   trece\n",
      "   altura  edad numero1 numero2 numero3  peso\n",
      "3     1.6    25  cuatro   nueve      14    67\n",
      "   cve  descrip\n",
      "3   14  catorce\n",
      "   altura  edad numero1 numero2 numero3  peso\n",
      "4     1.8    26   cinco    diez      15    70\n",
      "   cve descrip\n",
      "4   15  quince\n"
     ]
    },
    {
     "name": "stderr",
     "output_type": "stream",
     "text": [
      "C:\\Users\\Luis Carlos\\AppData\\Local\\Temp\\ipykernel_1320\\2492775592.py:5: SettingWithCopyWarning: \n",
      "A value is trying to be set on a copy of a slice from a DataFrame\n",
      "\n",
      "See the caveats in the documentation: https://pandas.pydata.org/pandas-docs/stable/user_guide/indexing.html#returning-a-view-versus-a-copy\n",
      "  df[indice][df[indice] == cve] = catalogos[indice][\"descrip\"][catalogos[indice][\"cve\"] == cve]\n",
      "C:\\Users\\Luis Carlos\\AppData\\Local\\Temp\\ipykernel_1320\\2492775592.py:5: SettingWithCopyWarning: \n",
      "A value is trying to be set on a copy of a slice from a DataFrame\n",
      "\n",
      "See the caveats in the documentation: https://pandas.pydata.org/pandas-docs/stable/user_guide/indexing.html#returning-a-view-versus-a-copy\n",
      "  df[indice][df[indice] == cve] = catalogos[indice][\"descrip\"][catalogos[indice][\"cve\"] == cve]\n",
      "C:\\Users\\Luis Carlos\\AppData\\Local\\Temp\\ipykernel_1320\\2492775592.py:5: SettingWithCopyWarning: \n",
      "A value is trying to be set on a copy of a slice from a DataFrame\n",
      "\n",
      "See the caveats in the documentation: https://pandas.pydata.org/pandas-docs/stable/user_guide/indexing.html#returning-a-view-versus-a-copy\n",
      "  df[indice][df[indice] == cve] = catalogos[indice][\"descrip\"][catalogos[indice][\"cve\"] == cve]\n"
     ]
    }
   ],
   "source": [
    "for indice in indices:\n",
    "    for cve in catalogos[indice][\"cve\"]:\n",
    "        print(df[df[indice] == cve])\n",
    "        print(catalogos[indice][catalogos[indice][\"cve\"] == cve])\n",
    "        df[indice][df[indice] == cve] = catalogos[indice][\"descrip\"][catalogos[indice][\"cve\"] == cve]"
   ]
  },
  {
   "cell_type": "code",
   "execution_count": 10,
   "metadata": {},
   "outputs": [
    {
     "data": {
      "text/html": [
       "<div>\n",
       "<style scoped>\n",
       "    .dataframe tbody tr th:only-of-type {\n",
       "        vertical-align: middle;\n",
       "    }\n",
       "\n",
       "    .dataframe tbody tr th {\n",
       "        vertical-align: top;\n",
       "    }\n",
       "\n",
       "    .dataframe thead th {\n",
       "        text-align: right;\n",
       "    }\n",
       "</style>\n",
       "<table border=\"1\" class=\"dataframe\">\n",
       "  <thead>\n",
       "    <tr style=\"text-align: right;\">\n",
       "      <th></th>\n",
       "      <th>altura</th>\n",
       "      <th>edad</th>\n",
       "      <th>numero1</th>\n",
       "      <th>numero2</th>\n",
       "      <th>numero3</th>\n",
       "      <th>peso</th>\n",
       "    </tr>\n",
       "  </thead>\n",
       "  <tbody>\n",
       "    <tr>\n",
       "      <th>0</th>\n",
       "      <td>1.8</td>\n",
       "      <td>29</td>\n",
       "      <td>uno</td>\n",
       "      <td>seis</td>\n",
       "      <td>once</td>\n",
       "      <td>68</td>\n",
       "    </tr>\n",
       "    <tr>\n",
       "      <th>1</th>\n",
       "      <td>1.9</td>\n",
       "      <td>30</td>\n",
       "      <td>dos</td>\n",
       "      <td>siete</td>\n",
       "      <td>doce</td>\n",
       "      <td>80</td>\n",
       "    </tr>\n",
       "    <tr>\n",
       "      <th>2</th>\n",
       "      <td>1.7</td>\n",
       "      <td>28</td>\n",
       "      <td>tres</td>\n",
       "      <td>ocho</td>\n",
       "      <td>trece</td>\n",
       "      <td>90</td>\n",
       "    </tr>\n",
       "    <tr>\n",
       "      <th>3</th>\n",
       "      <td>1.6</td>\n",
       "      <td>25</td>\n",
       "      <td>cuatro</td>\n",
       "      <td>nueve</td>\n",
       "      <td>catorce</td>\n",
       "      <td>67</td>\n",
       "    </tr>\n",
       "    <tr>\n",
       "      <th>4</th>\n",
       "      <td>1.8</td>\n",
       "      <td>26</td>\n",
       "      <td>cinco</td>\n",
       "      <td>diez</td>\n",
       "      <td>quince</td>\n",
       "      <td>70</td>\n",
       "    </tr>\n",
       "  </tbody>\n",
       "</table>\n",
       "</div>"
      ],
      "text/plain": [
       "   altura  edad numero1 numero2  numero3  peso\n",
       "0     1.8    29     uno    seis     once    68\n",
       "1     1.9    30     dos   siete     doce    80\n",
       "2     1.7    28    tres    ocho    trece    90\n",
       "3     1.6    25  cuatro   nueve  catorce    67\n",
       "4     1.8    26   cinco    diez   quince    70"
      ]
     },
     "execution_count": 10,
     "metadata": {},
     "output_type": "execute_result"
    }
   ],
   "source": [
    "df"
   ]
  },
  {
   "cell_type": "code",
   "execution_count": 11,
   "metadata": {},
   "outputs": [
    {
     "name": "stdout",
     "output_type": "stream",
     "text": [
      "<class 'pandas.core.frame.DataFrame'>\n",
      "RangeIndex: 5 entries, 0 to 4\n",
      "Data columns (total 6 columns):\n",
      " #   Column   Non-Null Count  Dtype  \n",
      "---  ------   --------------  -----  \n",
      " 0   altura   5 non-null      float64\n",
      " 1   edad     5 non-null      int64  \n",
      " 2   numero1  5 non-null      object \n",
      " 3   numero2  5 non-null      object \n",
      " 4   numero3  5 non-null      object \n",
      " 5   peso     5 non-null      int64  \n",
      "dtypes: float64(1), int64(2), object(3)\n",
      "memory usage: 372.0+ bytes\n"
     ]
    }
   ],
   "source": [
    "df.info()"
   ]
  },
  {
   "cell_type": "code",
   "execution_count": 12,
   "metadata": {},
   "outputs": [],
   "source": [
    "dict = {\"altura\":[1.8, 1.9, 1.7, 1.6, 1.8],\n",
    "        \"edad\":[29, 30, 28, 25, 26],\n",
    "        \"numero1\":[1,2,3,4,5],\n",
    "        \"numero2\":[6,7,8,9,10],\n",
    "        \"numero3\":[11,12,13,14,15],\n",
    "        \"peso\":[68, 80, 90, 67, 70]\n",
    "\n",
    "}\n",
    "\n",
    "df = pd.DataFrame(dict)"
   ]
  },
  {
   "cell_type": "code",
   "execution_count": 13,
   "metadata": {},
   "outputs": [],
   "source": [
    "numero1 = {\"cve\":[1, 2, 3, 4, 5],\n",
    "        \"descrip\":[\"uno\", \"dos\", \"tres\", \"cuatro\", \"cinco\"]\n",
    "}\n",
    "\n",
    "numero2 = {\"cve\":[6, 7, 8, 9, 10],\n",
    "        \"descrip\":[\"seis\", \"siete\", \"ocho\", \"nueve\", \"diez\"]\n",
    "}\n",
    "\n",
    "numero3 = {\"cve\":[11, 12, 13, 14, 15],\n",
    "        \"descrip\":[\"once\", \"doce\", \"trece\", \"catorce\", \"quince\"]\n",
    "}\n",
    "\n",
    "numero1 = pd.DataFrame(numero1)\n",
    "\n",
    "numero2 = pd.DataFrame(numero2)\n",
    "\n",
    "numero3 = pd.DataFrame(numero3)\n"
   ]
  },
  {
   "cell_type": "code",
   "execution_count": 14,
   "metadata": {},
   "outputs": [],
   "source": [
    "diccionario = pd.DataFrame(\n",
    "    {\n",
    "        \"otro\": [\"ax\", \"ac\", \"ab\"],\n",
    "        \"catálogo\": [\"numero1\", \"numero2\", \"numero3\"]\n",
    "    }\n",
    ")"
   ]
  },
  {
   "cell_type": "code",
   "execution_count": 15,
   "metadata": {},
   "outputs": [
    {
     "data": {
      "text/html": [
       "<div>\n",
       "<style scoped>\n",
       "    .dataframe tbody tr th:only-of-type {\n",
       "        vertical-align: middle;\n",
       "    }\n",
       "\n",
       "    .dataframe tbody tr th {\n",
       "        vertical-align: top;\n",
       "    }\n",
       "\n",
       "    .dataframe thead th {\n",
       "        text-align: right;\n",
       "    }\n",
       "</style>\n",
       "<table border=\"1\" class=\"dataframe\">\n",
       "  <thead>\n",
       "    <tr style=\"text-align: right;\">\n",
       "      <th></th>\n",
       "      <th>otro</th>\n",
       "      <th>catálogo</th>\n",
       "    </tr>\n",
       "  </thead>\n",
       "  <tbody>\n",
       "    <tr>\n",
       "      <th>0</th>\n",
       "      <td>ax</td>\n",
       "      <td>numero1</td>\n",
       "    </tr>\n",
       "    <tr>\n",
       "      <th>1</th>\n",
       "      <td>ac</td>\n",
       "      <td>numero2</td>\n",
       "    </tr>\n",
       "    <tr>\n",
       "      <th>2</th>\n",
       "      <td>ab</td>\n",
       "      <td>numero3</td>\n",
       "    </tr>\n",
       "  </tbody>\n",
       "</table>\n",
       "</div>"
      ],
      "text/plain": [
       "  otro catálogo\n",
       "0   ax  numero1\n",
       "1   ac  numero2\n",
       "2   ab  numero3"
      ]
     },
     "execution_count": 15,
     "metadata": {},
     "output_type": "execute_result"
    }
   ],
   "source": [
    "diccionario"
   ]
  },
  {
   "cell_type": "code",
   "execution_count": 16,
   "metadata": {},
   "outputs": [],
   "source": [
    "tsdem = {\n",
    "    \"df\":df,\n",
    "    \"diccionario\":diccionario,\n",
    "    \"catalogos\":{\n",
    "        \"numero1\":numero1,\n",
    "        \"numero2\":numero2,\n",
    "        \"numero3\":numero3\n",
    "    }\n",
    "}"
   ]
  },
  {
   "cell_type": "code",
   "execution_count": 20,
   "metadata": {},
   "outputs": [],
   "source": [
    "def cambiar_valores(archivo):\n",
    "    for indice in archivo[\"diccionario\"][\"catálogo\"]:\n",
    "        print(indice)\n",
    "        for cve in archivo[\"catalogos\"][indice][\"cve\"]:\n",
    "            print(cve)\n",
    "            print(df[df[indice] == cve])\n",
    "            print(archivo[\"catalogos\"][indice][archivo[\"catalogos\"][indice][\"cve\"] == cve])\n",
    "            archivo[\"df\"][indice][archivo[\"df\"][indice] == cve] = archivo[\"catalogos\"][indice][\"descrip\"][archivo[\"catalogos\"][indice][\"cve\"] == cve]\n",
    "            \n",
    "            \n"
   ]
  },
  {
   "cell_type": "code",
   "execution_count": 21,
   "metadata": {},
   "outputs": [
    {
     "name": "stdout",
     "output_type": "stream",
     "text": [
      "numero1\n",
      "1\n",
      "   altura  edad  numero1  numero2  numero3  peso\n",
      "0     1.8    29        1        6       11    68\n",
      "   cve descrip\n",
      "0    1     uno\n",
      "2\n",
      "   altura  edad numero1  numero2  numero3  peso\n",
      "1     1.9    30       2        7       12    80\n",
      "   cve descrip\n",
      "1    2     dos\n",
      "3\n",
      "   altura  edad numero1  numero2  numero3  peso\n",
      "2     1.7    28       3        8       13    90\n",
      "   cve descrip\n",
      "2    3    tres\n",
      "4\n",
      "   altura  edad numero1  numero2  numero3  peso\n",
      "3     1.6    25       4        9       14    67\n",
      "   cve descrip\n",
      "3    4  cuatro\n",
      "5\n",
      "   altura  edad numero1  numero2  numero3  peso\n",
      "4     1.8    26       5       10       15    70\n",
      "   cve descrip\n",
      "4    5   cinco\n",
      "numero2\n",
      "6\n",
      "   altura  edad numero1  numero2  numero3  peso\n",
      "0     1.8    29     uno        6       11    68\n",
      "   cve descrip\n",
      "0    6    seis\n",
      "7\n",
      "   altura  edad numero1 numero2  numero3  peso\n",
      "1     1.9    30     dos       7       12    80\n",
      "   cve descrip\n",
      "1    7   siete\n",
      "8\n",
      "   altura  edad numero1 numero2  numero3  peso\n",
      "2     1.7    28    tres       8       13    90\n",
      "   cve descrip\n",
      "2    8    ocho\n",
      "9\n",
      "   altura  edad numero1 numero2  numero3  peso\n",
      "3     1.6    25  cuatro       9       14    67\n",
      "   cve descrip\n",
      "3    9   nueve\n",
      "10\n",
      "   altura  edad numero1 numero2  numero3  peso\n",
      "4     1.8    26   cinco      10       15    70\n",
      "   cve descrip\n",
      "4   10    diez\n",
      "numero3\n",
      "11\n",
      "   altura  edad numero1 numero2  numero3  peso\n",
      "0     1.8    29     uno    seis       11    68\n",
      "   cve descrip\n",
      "0   11    once\n",
      "12\n",
      "   altura  edad numero1 numero2 numero3  peso\n",
      "1     1.9    30     dos   siete      12    80\n",
      "   cve descrip\n",
      "1   12    doce\n",
      "13\n",
      "   altura  edad numero1 numero2 numero3  peso\n",
      "2     1.7    28    tres    ocho      13    90\n",
      "   cve descrip\n",
      "2   13   trece\n",
      "14\n",
      "   altura  edad numero1 numero2 numero3  peso\n",
      "3     1.6    25  cuatro   nueve      14    67\n",
      "   cve  descrip\n",
      "3   14  catorce\n",
      "15\n",
      "   altura  edad numero1 numero2 numero3  peso\n",
      "4     1.8    26   cinco    diez      15    70\n",
      "   cve descrip\n",
      "4   15  quince\n"
     ]
    },
    {
     "name": "stderr",
     "output_type": "stream",
     "text": [
      "C:\\Users\\Luis Carlos\\AppData\\Local\\Temp\\ipykernel_1320\\702352348.py:8: SettingWithCopyWarning: \n",
      "A value is trying to be set on a copy of a slice from a DataFrame\n",
      "\n",
      "See the caveats in the documentation: https://pandas.pydata.org/pandas-docs/stable/user_guide/indexing.html#returning-a-view-versus-a-copy\n",
      "  archivo[\"df\"][indice][archivo[\"df\"][indice] == cve] = archivo[\"catalogos\"][indice][\"descrip\"][archivo[\"catalogos\"][indice][\"cve\"] == cve]\n",
      "C:\\Users\\Luis Carlos\\AppData\\Local\\Temp\\ipykernel_1320\\702352348.py:8: SettingWithCopyWarning: \n",
      "A value is trying to be set on a copy of a slice from a DataFrame\n",
      "\n",
      "See the caveats in the documentation: https://pandas.pydata.org/pandas-docs/stable/user_guide/indexing.html#returning-a-view-versus-a-copy\n",
      "  archivo[\"df\"][indice][archivo[\"df\"][indice] == cve] = archivo[\"catalogos\"][indice][\"descrip\"][archivo[\"catalogos\"][indice][\"cve\"] == cve]\n",
      "C:\\Users\\Luis Carlos\\AppData\\Local\\Temp\\ipykernel_1320\\702352348.py:8: SettingWithCopyWarning: \n",
      "A value is trying to be set on a copy of a slice from a DataFrame\n",
      "\n",
      "See the caveats in the documentation: https://pandas.pydata.org/pandas-docs/stable/user_guide/indexing.html#returning-a-view-versus-a-copy\n",
      "  archivo[\"df\"][indice][archivo[\"df\"][indice] == cve] = archivo[\"catalogos\"][indice][\"descrip\"][archivo[\"catalogos\"][indice][\"cve\"] == cve]\n"
     ]
    }
   ],
   "source": [
    "cambiar_valores(tsdem)"
   ]
  },
  {
   "cell_type": "code",
   "execution_count": 25,
   "metadata": {},
   "outputs": [
    {
     "data": {
      "text/html": [
       "<div>\n",
       "<style scoped>\n",
       "    .dataframe tbody tr th:only-of-type {\n",
       "        vertical-align: middle;\n",
       "    }\n",
       "\n",
       "    .dataframe tbody tr th {\n",
       "        vertical-align: top;\n",
       "    }\n",
       "\n",
       "    .dataframe thead th {\n",
       "        text-align: right;\n",
       "    }\n",
       "</style>\n",
       "<table border=\"1\" class=\"dataframe\">\n",
       "  <thead>\n",
       "    <tr style=\"text-align: right;\">\n",
       "      <th></th>\n",
       "      <th>altura</th>\n",
       "      <th>edad</th>\n",
       "      <th>numero1</th>\n",
       "      <th>numero2</th>\n",
       "      <th>numero3</th>\n",
       "      <th>peso</th>\n",
       "    </tr>\n",
       "  </thead>\n",
       "  <tbody>\n",
       "    <tr>\n",
       "      <th>0</th>\n",
       "      <td>1.8</td>\n",
       "      <td>29</td>\n",
       "      <td>uno</td>\n",
       "      <td>seis</td>\n",
       "      <td>once</td>\n",
       "      <td>68</td>\n",
       "    </tr>\n",
       "    <tr>\n",
       "      <th>1</th>\n",
       "      <td>1.9</td>\n",
       "      <td>30</td>\n",
       "      <td>dos</td>\n",
       "      <td>siete</td>\n",
       "      <td>doce</td>\n",
       "      <td>80</td>\n",
       "    </tr>\n",
       "    <tr>\n",
       "      <th>2</th>\n",
       "      <td>1.7</td>\n",
       "      <td>28</td>\n",
       "      <td>tres</td>\n",
       "      <td>ocho</td>\n",
       "      <td>trece</td>\n",
       "      <td>90</td>\n",
       "    </tr>\n",
       "    <tr>\n",
       "      <th>3</th>\n",
       "      <td>1.6</td>\n",
       "      <td>25</td>\n",
       "      <td>cuatro</td>\n",
       "      <td>nueve</td>\n",
       "      <td>catorce</td>\n",
       "      <td>67</td>\n",
       "    </tr>\n",
       "    <tr>\n",
       "      <th>4</th>\n",
       "      <td>1.8</td>\n",
       "      <td>26</td>\n",
       "      <td>cinco</td>\n",
       "      <td>diez</td>\n",
       "      <td>quince</td>\n",
       "      <td>70</td>\n",
       "    </tr>\n",
       "  </tbody>\n",
       "</table>\n",
       "</div>"
      ],
      "text/plain": [
       "   altura  edad numero1 numero2  numero3  peso\n",
       "0     1.8    29     uno    seis     once    68\n",
       "1     1.9    30     dos   siete     doce    80\n",
       "2     1.7    28    tres    ocho    trece    90\n",
       "3     1.6    25  cuatro   nueve  catorce    67\n",
       "4     1.8    26   cinco    diez   quince    70"
      ]
     },
     "execution_count": 25,
     "metadata": {},
     "output_type": "execute_result"
    }
   ],
   "source": [
    "tsdem[\"df\"]"
   ]
  }
 ],
 "metadata": {
  "kernelspec": {
   "display_name": ".venv",
   "language": "python",
   "name": "python3"
  },
  "language_info": {
   "codemirror_mode": {
    "name": "ipython",
    "version": 3
   },
   "file_extension": ".py",
   "mimetype": "text/x-python",
   "name": "python",
   "nbconvert_exporter": "python",
   "pygments_lexer": "ipython3",
   "version": "3.11.4"
  },
  "orig_nbformat": 4
 },
 "nbformat": 4,
 "nbformat_minor": 2
}
